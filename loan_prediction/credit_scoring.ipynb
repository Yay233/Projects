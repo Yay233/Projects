{
  "nbformat": 4,
  "nbformat_minor": 0,
  "metadata": {
    "colab": {
      "name": "ethel_hehetror_credit_scoring.ipynb",
      "provenance": [],
      "collapsed_sections": [
        "-B-HK-BOU0h3"
      ],
      "toc_visible": true
    },
    "kernelspec": {
      "display_name": "Python 3",
      "name": "python3"
    },
    "language_info": {
      "name": "python"
    }
  },
  "cells": [
    {
      "cell_type": "markdown",
      "metadata": {
        "id": "2cZG8Jwn8QVT"
      },
      "source": [
        "# **Loan Eligibility Prediction**\n",
        "####  Business Problem\n",
        "A business wants to automate their loan qualifying process (in real time) based on information provided by customers while filling out an online application.To automate this process, we have to identify the customers segments, those eligible for loan amount so that they can specifically target these customers.\n"
      ]
    },
    {
      "cell_type": "markdown",
      "metadata": {
        "id": "8Lq_7y3q8ZNO"
      },
      "source": [
        "##### Table of Contents\n",
        "\n",
        "- Business and Data Understanding\n",
        "- Data Exploration\n",
        "- Data Preprocessing\n",
        "  - Impute the missing values\n",
        "  - Encode the categorical variables\n",
        "  - Normalize/Scale the data if required\n",
        "- Model Building\n",
        "- Selecting the best model\n",
        "- Predict the target on the unseen data."
      ]
    },
    {
      "cell_type": "markdown",
      "metadata": {
        "id": "37hntI5l8kYy"
      },
      "source": [
        "## Business and Data Understanding\n",
        "\n",
        "#### 1. What decisions needs to be made?\n",
        "The goal is to determine whether customers who applied for loans are creditworthy enough to be granted one.\n",
        "\n",
        "#### 2. What data is needed to inform those decisions?\n",
        "Data on past applications such as Account Balance and Credit Amount and list of customers to be processed are required in order to inform those decisions\n",
        "\n",
        "#### 3. What kind of model is needed to help make these decisions?\n",
        "\n",
        "Binary classification models such as logistics regression, decision tree, forest model  boosted tree, and Stochastic Gradient Descent will be used to train and determine creditworthy customers."
      ]
    },
    {
      "cell_type": "markdown",
      "metadata": {
        "id": "yt5xVwRnGL43"
      },
      "source": [
        "## Loading packages and datasets"
      ]
    },
    {
      "cell_type": "code",
      "metadata": {
        "id": "dS5KZr1KiuYN"
      },
      "source": [
        "! pip install bioinfokit"
      ],
      "execution_count": null,
      "outputs": []
    },
    {
      "cell_type": "markdown",
      "metadata": {
        "id": "UohBnzzPHvmb"
      },
      "source": [
        "Loading packages"
      ]
    },
    {
      "cell_type": "code",
      "metadata": {
        "id": "OJcb-seAGdVR"
      },
      "source": [
        "# data exploration and manipulation \n",
        "import numpy as np\n",
        "import pandas as pd\n",
        "import matplotlib.pyplot as plt\n",
        "import seaborn as sns\n",
        "from bioinfokit.analys import stat\n",
        "\n",
        "# model building\n",
        "import sklearn\n",
        "from sklearn.metrics import confusion_matrix, roc_auc_score, f1_score, recall_score, precision_score, classification_report\n",
        "from sklearn.pipeline import Pipeline\n",
        "import xgboost as xgb\n",
        "from sklearn.ensemble import BaggingClassifier\n",
        "from sklearn.linear_model import LogisticRegression\n",
        "from sklearn.ensemble import RandomForestClassifier, AdaBoostClassifier\n",
        "from sklearn.naive_bayes import GaussianNB\n",
        "from sklearn.neighbors import KNeighborsClassifier\n",
        "from sklearn.svm import SVC\n",
        "from sklearn.tree import DecisionTreeClassifier\n",
        "from sklearn.linear_model import SGDClassifier\n",
        "from sklearn.model_selection import train_test_split\n",
        "from sklearn.model_selection import cross_val_score\n",
        "from sklearn.model_selection import RepeatedStratifiedKFold\n",
        "from sklearn.model_selection import GridSearchCV\n",
        "\n",
        "# Data preprocessing \n",
        "from sklearn.preprocessing import OneHotEncoder\n",
        "from sklearn.preprocessing import StandardScaler\n",
        "from sklearn.preprocessing import MinMaxScaler\n",
        "\n",
        "import warnings\n",
        "warnings.filterwarnings('ignore')"
      ],
      "execution_count": null,
      "outputs": []
    },
    {
      "cell_type": "markdown",
      "metadata": {
        "id": "YhWFjTG_H4uR"
      },
      "source": [
        "**Loading datasets**"
      ]
    },
    {
      "cell_type": "code",
      "metadata": {
        "id": "x6mQX1-BHi6q"
      },
      "source": [
        "# importing files\n",
        "from google.colab import files\n",
        "uploaded = files.upload()"
      ],
      "execution_count": null,
      "outputs": []
    },
    {
      "cell_type": "code",
      "metadata": {
        "id": "GMdUYRfXHi3S"
      },
      "source": [
        "# reading files into a dataframe\n",
        "train_data = pd.read_excel('credit-data-training.xlsx')\n",
        "test_data = pd.read_excel('customers-to-score.xlsx')\n"
      ],
      "execution_count": null,
      "outputs": []
    },
    {
      "cell_type": "code",
      "metadata": {
        "colab": {
          "base_uri": "https://localhost:8080/",
          "height": 320
        },
        "id": "Nr1Gn3_lJXbz",
        "outputId": "1908eb47-aee2-4f86-97fe-827d74814006"
      },
      "source": [
        "# taking a look at the train data\n",
        "train_data.head(3)"
      ],
      "execution_count": null,
      "outputs": [
        {
          "output_type": "execute_result",
          "data": {
            "text/html": [
              "<div>\n",
              "<style scoped>\n",
              "    .dataframe tbody tr th:only-of-type {\n",
              "        vertical-align: middle;\n",
              "    }\n",
              "\n",
              "    .dataframe tbody tr th {\n",
              "        vertical-align: top;\n",
              "    }\n",
              "\n",
              "    .dataframe thead th {\n",
              "        text-align: right;\n",
              "    }\n",
              "</style>\n",
              "<table border=\"1\" class=\"dataframe\">\n",
              "  <thead>\n",
              "    <tr style=\"text-align: right;\">\n",
              "      <th></th>\n",
              "      <th>Credit-Application-Result</th>\n",
              "      <th>Account-Balance</th>\n",
              "      <th>Duration-of-Credit-Month</th>\n",
              "      <th>Payment-Status-of-Previous-Credit</th>\n",
              "      <th>Purpose</th>\n",
              "      <th>Credit-Amount</th>\n",
              "      <th>Value-Savings-Stocks</th>\n",
              "      <th>Length-of-current-employment</th>\n",
              "      <th>Instalment-per-cent</th>\n",
              "      <th>Guarantors</th>\n",
              "      <th>Duration-in-Current-address</th>\n",
              "      <th>Most-valuable-available-asset</th>\n",
              "      <th>Age-years</th>\n",
              "      <th>Concurrent-Credits</th>\n",
              "      <th>Type-of-apartment</th>\n",
              "      <th>No-of-Credits-at-this-Bank</th>\n",
              "      <th>Occupation</th>\n",
              "      <th>No-of-dependents</th>\n",
              "      <th>Telephone</th>\n",
              "      <th>Foreign-Worker</th>\n",
              "    </tr>\n",
              "  </thead>\n",
              "  <tbody>\n",
              "    <tr>\n",
              "      <th>0</th>\n",
              "      <td>Creditworthy</td>\n",
              "      <td>Some Balance</td>\n",
              "      <td>4</td>\n",
              "      <td>Paid Up</td>\n",
              "      <td>Other</td>\n",
              "      <td>1494</td>\n",
              "      <td>£100-£1000</td>\n",
              "      <td>&lt; 1yr</td>\n",
              "      <td>1</td>\n",
              "      <td>None</td>\n",
              "      <td>2.0</td>\n",
              "      <td>1</td>\n",
              "      <td>NaN</td>\n",
              "      <td>Other Banks/Depts</td>\n",
              "      <td>2</td>\n",
              "      <td>1</td>\n",
              "      <td>1</td>\n",
              "      <td>2</td>\n",
              "      <td>1</td>\n",
              "      <td>2</td>\n",
              "    </tr>\n",
              "    <tr>\n",
              "      <th>1</th>\n",
              "      <td>Creditworthy</td>\n",
              "      <td>Some Balance</td>\n",
              "      <td>4</td>\n",
              "      <td>Paid Up</td>\n",
              "      <td>Home Related</td>\n",
              "      <td>1494</td>\n",
              "      <td>£100-£1000</td>\n",
              "      <td>&lt; 1yr</td>\n",
              "      <td>1</td>\n",
              "      <td>None</td>\n",
              "      <td>2.0</td>\n",
              "      <td>1</td>\n",
              "      <td>29.0</td>\n",
              "      <td>Other Banks/Depts</td>\n",
              "      <td>2</td>\n",
              "      <td>1</td>\n",
              "      <td>1</td>\n",
              "      <td>2</td>\n",
              "      <td>1</td>\n",
              "      <td>2</td>\n",
              "    </tr>\n",
              "    <tr>\n",
              "      <th>2</th>\n",
              "      <td>Creditworthy</td>\n",
              "      <td>Some Balance</td>\n",
              "      <td>4</td>\n",
              "      <td>No Problems (in this bank)</td>\n",
              "      <td>Home Related</td>\n",
              "      <td>1544</td>\n",
              "      <td>None</td>\n",
              "      <td>1-4 yrs</td>\n",
              "      <td>2</td>\n",
              "      <td>None</td>\n",
              "      <td>1.0</td>\n",
              "      <td>1</td>\n",
              "      <td>42.0</td>\n",
              "      <td>Other Banks/Depts</td>\n",
              "      <td>2</td>\n",
              "      <td>More than 1</td>\n",
              "      <td>1</td>\n",
              "      <td>2</td>\n",
              "      <td>1</td>\n",
              "      <td>1</td>\n",
              "    </tr>\n",
              "  </tbody>\n",
              "</table>\n",
              "</div>"
            ],
            "text/plain": [
              "  Credit-Application-Result Account-Balance  ...  Telephone Foreign-Worker\n",
              "0              Creditworthy    Some Balance  ...          1              2\n",
              "1              Creditworthy    Some Balance  ...          1              2\n",
              "2              Creditworthy    Some Balance  ...          1              1\n",
              "\n",
              "[3 rows x 20 columns]"
            ]
          },
          "metadata": {},
          "execution_count": 3
        }
      ]
    },
    {
      "cell_type": "code",
      "metadata": {
        "colab": {
          "base_uri": "https://localhost:8080/",
          "height": 354
        },
        "id": "PxQ0C53ys70v",
        "outputId": "2db6b300-612a-4454-af56-a57c27693485"
      },
      "source": [
        "# taking a look at the test data\n",
        "test_data.head(3)"
      ],
      "execution_count": null,
      "outputs": [
        {
          "output_type": "execute_result",
          "data": {
            "text/html": [
              "<div>\n",
              "<style scoped>\n",
              "    .dataframe tbody tr th:only-of-type {\n",
              "        vertical-align: middle;\n",
              "    }\n",
              "\n",
              "    .dataframe tbody tr th {\n",
              "        vertical-align: top;\n",
              "    }\n",
              "\n",
              "    .dataframe thead th {\n",
              "        text-align: right;\n",
              "    }\n",
              "</style>\n",
              "<table border=\"1\" class=\"dataframe\">\n",
              "  <thead>\n",
              "    <tr style=\"text-align: right;\">\n",
              "      <th></th>\n",
              "      <th>Account-Balance</th>\n",
              "      <th>Duration-of-Credit-Month</th>\n",
              "      <th>Payment-Status-of-Previous-Credit</th>\n",
              "      <th>Purpose</th>\n",
              "      <th>Credit-Amount</th>\n",
              "      <th>Value-Savings-Stocks</th>\n",
              "      <th>Length-of-current-employment</th>\n",
              "      <th>Instalment-per-cent</th>\n",
              "      <th>Guarantors</th>\n",
              "      <th>Duration-in-Current-address</th>\n",
              "      <th>Most-valuable-available-asset</th>\n",
              "      <th>Age-years</th>\n",
              "      <th>Concurrent-Credits</th>\n",
              "      <th>Type-of-apartment</th>\n",
              "      <th>No-of-Credits-at-this-Bank</th>\n",
              "      <th>Occupation</th>\n",
              "      <th>No-of-dependents</th>\n",
              "      <th>Telephone</th>\n",
              "      <th>Foreign-Worker</th>\n",
              "    </tr>\n",
              "  </thead>\n",
              "  <tbody>\n",
              "    <tr>\n",
              "      <th>0</th>\n",
              "      <td>No Account</td>\n",
              "      <td>9</td>\n",
              "      <td>No Problems (in this bank)</td>\n",
              "      <td>Home Related</td>\n",
              "      <td>2799</td>\n",
              "      <td>None</td>\n",
              "      <td>&lt; 1yr</td>\n",
              "      <td>2</td>\n",
              "      <td>None</td>\n",
              "      <td>2</td>\n",
              "      <td>1</td>\n",
              "      <td>36</td>\n",
              "      <td>Other Banks/Depts</td>\n",
              "      <td>1</td>\n",
              "      <td>More than 1</td>\n",
              "      <td>1</td>\n",
              "      <td>2</td>\n",
              "      <td>1</td>\n",
              "      <td>1</td>\n",
              "    </tr>\n",
              "    <tr>\n",
              "      <th>1</th>\n",
              "      <td>No Account</td>\n",
              "      <td>12</td>\n",
              "      <td>No Problems (in this bank)</td>\n",
              "      <td>Home Related</td>\n",
              "      <td>2122</td>\n",
              "      <td>None</td>\n",
              "      <td>&lt; 1yr</td>\n",
              "      <td>3</td>\n",
              "      <td>None</td>\n",
              "      <td>2</td>\n",
              "      <td>1</td>\n",
              "      <td>39</td>\n",
              "      <td>Other Banks/Depts</td>\n",
              "      <td>1</td>\n",
              "      <td>More than 1</td>\n",
              "      <td>1</td>\n",
              "      <td>2</td>\n",
              "      <td>1</td>\n",
              "      <td>2</td>\n",
              "    </tr>\n",
              "    <tr>\n",
              "      <th>2</th>\n",
              "      <td>No Account</td>\n",
              "      <td>24</td>\n",
              "      <td>Paid Up</td>\n",
              "      <td>Home Related</td>\n",
              "      <td>3758</td>\n",
              "      <td>£100-£1000</td>\n",
              "      <td>&lt; 1yr</td>\n",
              "      <td>1</td>\n",
              "      <td>None</td>\n",
              "      <td>4</td>\n",
              "      <td>4</td>\n",
              "      <td>23</td>\n",
              "      <td>Other Banks/Depts</td>\n",
              "      <td>1</td>\n",
              "      <td>1</td>\n",
              "      <td>1</td>\n",
              "      <td>1</td>\n",
              "      <td>1</td>\n",
              "      <td>1</td>\n",
              "    </tr>\n",
              "  </tbody>\n",
              "</table>\n",
              "</div>"
            ],
            "text/plain": [
              "  Account-Balance  Duration-of-Credit-Month  ... Telephone Foreign-Worker\n",
              "0      No Account                         9  ...         1              1\n",
              "1      No Account                        12  ...         1              2\n",
              "2      No Account                        24  ...         1              1\n",
              "\n",
              "[3 rows x 19 columns]"
            ]
          },
          "metadata": {},
          "execution_count": 4
        }
      ]
    },
    {
      "cell_type": "markdown",
      "metadata": {
        "id": "Sik3fed4JMRa"
      },
      "source": [
        "## Data Exploration"
      ]
    },
    {
      "cell_type": "markdown",
      "metadata": {
        "id": "REXgubqKLLv0"
      },
      "source": [
        "#### understanding the data"
      ]
    },
    {
      "cell_type": "code",
      "metadata": {
        "colab": {
          "base_uri": "https://localhost:8080/"
        },
        "id": "HMXujR1jHiyA",
        "outputId": "03d75cc7-4c85-4cfa-afe4-1b15fe792811"
      },
      "source": [
        "# looking at train data summary\n",
        "train_data.info()"
      ],
      "execution_count": null,
      "outputs": [
        {
          "output_type": "stream",
          "name": "stdout",
          "text": [
            "<class 'pandas.core.frame.DataFrame'>\n",
            "RangeIndex: 500 entries, 0 to 499\n",
            "Data columns (total 20 columns):\n",
            " #   Column                             Non-Null Count  Dtype  \n",
            "---  ------                             --------------  -----  \n",
            " 0   Credit-Application-Result          500 non-null    object \n",
            " 1   Account-Balance                    500 non-null    object \n",
            " 2   Duration-of-Credit-Month           500 non-null    int64  \n",
            " 3   Payment-Status-of-Previous-Credit  500 non-null    object \n",
            " 4   Purpose                            500 non-null    object \n",
            " 5   Credit-Amount                      500 non-null    int64  \n",
            " 6   Value-Savings-Stocks               500 non-null    object \n",
            " 7   Length-of-current-employment       500 non-null    object \n",
            " 8   Instalment-per-cent                500 non-null    int64  \n",
            " 9   Guarantors                         500 non-null    object \n",
            " 10  Duration-in-Current-address        156 non-null    float64\n",
            " 11  Most-valuable-available-asset      500 non-null    int64  \n",
            " 12  Age-years                          488 non-null    float64\n",
            " 13  Concurrent-Credits                 500 non-null    object \n",
            " 14  Type-of-apartment                  500 non-null    int64  \n",
            " 15  No-of-Credits-at-this-Bank         500 non-null    object \n",
            " 16  Occupation                         500 non-null    int64  \n",
            " 17  No-of-dependents                   500 non-null    int64  \n",
            " 18  Telephone                          500 non-null    int64  \n",
            " 19  Foreign-Worker                     500 non-null    int64  \n",
            "dtypes: float64(2), int64(9), object(9)\n",
            "memory usage: 78.2+ KB\n"
          ]
        }
      ]
    },
    {
      "cell_type": "markdown",
      "metadata": {
        "id": "hVqFvm5bLgdA"
      },
      "source": [
        "The train dataset contains the following:\n",
        "- 500 records\n",
        "- 20 features\n",
        "- float,int, and object data types\n",
        "- some records seem to be missing"
      ]
    },
    {
      "cell_type": "code",
      "metadata": {
        "colab": {
          "base_uri": "https://localhost:8080/"
        },
        "id": "H08UwFD_s6vh",
        "outputId": "ac42d64a-babe-4a73-dbe7-7090edfef06b"
      },
      "source": [
        "# looking at test data summary\n",
        "test_data.info()"
      ],
      "execution_count": null,
      "outputs": [
        {
          "output_type": "stream",
          "name": "stdout",
          "text": [
            "<class 'pandas.core.frame.DataFrame'>\n",
            "RangeIndex: 500 entries, 0 to 499\n",
            "Data columns (total 19 columns):\n",
            " #   Column                             Non-Null Count  Dtype \n",
            "---  ------                             --------------  ----- \n",
            " 0   Account-Balance                    500 non-null    object\n",
            " 1   Duration-of-Credit-Month           500 non-null    int64 \n",
            " 2   Payment-Status-of-Previous-Credit  500 non-null    object\n",
            " 3   Purpose                            500 non-null    object\n",
            " 4   Credit-Amount                      500 non-null    int64 \n",
            " 5   Value-Savings-Stocks               500 non-null    object\n",
            " 6   Length-of-current-employment       500 non-null    object\n",
            " 7   Instalment-per-cent                500 non-null    int64 \n",
            " 8   Guarantors                         500 non-null    object\n",
            " 9   Duration-in-Current-address        500 non-null    int64 \n",
            " 10  Most-valuable-available-asset      500 non-null    int64 \n",
            " 11  Age-years                          500 non-null    int64 \n",
            " 12  Concurrent-Credits                 500 non-null    object\n",
            " 13  Type-of-apartment                  500 non-null    int64 \n",
            " 14  No-of-Credits-at-this-Bank         500 non-null    object\n",
            " 15  Occupation                         500 non-null    int64 \n",
            " 16  No-of-dependents                   500 non-null    int64 \n",
            " 17  Telephone                          500 non-null    int64 \n",
            " 18  Foreign-Worker                     500 non-null    int64 \n",
            "dtypes: int64(11), object(8)\n",
            "memory usage: 74.3+ KB\n"
          ]
        }
      ]
    },
    {
      "cell_type": "markdown",
      "metadata": {
        "id": "rR2uOvCItZ_L"
      },
      "source": [
        "Test data contain the following:\n",
        "- 500 records\n",
        "- 19 features\n",
        "- no missing records\n",
        "- int and object data types"
      ]
    },
    {
      "cell_type": "code",
      "metadata": {
        "colab": {
          "base_uri": "https://localhost:8080/"
        },
        "id": "h4SDFWc-Ieev",
        "outputId": "314ee864-7256-48e0-d607-5b259e72f168"
      },
      "source": [
        "# looking at basic stats on numerical features (train data)\n",
        "train_data.describe()"
      ],
      "execution_count": null,
      "outputs": [
        {
          "output_type": "execute_result",
          "data": {
            "text/html": [
              "<div>\n",
              "<style scoped>\n",
              "    .dataframe tbody tr th:only-of-type {\n",
              "        vertical-align: middle;\n",
              "    }\n",
              "\n",
              "    .dataframe tbody tr th {\n",
              "        vertical-align: top;\n",
              "    }\n",
              "\n",
              "    .dataframe thead th {\n",
              "        text-align: right;\n",
              "    }\n",
              "</style>\n",
              "<table border=\"1\" class=\"dataframe\">\n",
              "  <thead>\n",
              "    <tr style=\"text-align: right;\">\n",
              "      <th></th>\n",
              "      <th>Duration-of-Credit-Month</th>\n",
              "      <th>Credit-Amount</th>\n",
              "      <th>Instalment-per-cent</th>\n",
              "      <th>Duration-in-Current-address</th>\n",
              "      <th>Most-valuable-available-asset</th>\n",
              "      <th>Age-years</th>\n",
              "      <th>Type-of-apartment</th>\n",
              "      <th>Occupation</th>\n",
              "      <th>No-of-dependents</th>\n",
              "      <th>Telephone</th>\n",
              "      <th>Foreign-Worker</th>\n",
              "    </tr>\n",
              "  </thead>\n",
              "  <tbody>\n",
              "    <tr>\n",
              "      <th>count</th>\n",
              "      <td>500.00000</td>\n",
              "      <td>500.000000</td>\n",
              "      <td>500.000000</td>\n",
              "      <td>156.000000</td>\n",
              "      <td>500.000000</td>\n",
              "      <td>488.000000</td>\n",
              "      <td>500.000000</td>\n",
              "      <td>500.0</td>\n",
              "      <td>500.00000</td>\n",
              "      <td>500.000000</td>\n",
              "      <td>500.000000</td>\n",
              "    </tr>\n",
              "    <tr>\n",
              "      <th>mean</th>\n",
              "      <td>21.43400</td>\n",
              "      <td>3199.980000</td>\n",
              "      <td>3.010000</td>\n",
              "      <td>2.660256</td>\n",
              "      <td>2.360000</td>\n",
              "      <td>35.637295</td>\n",
              "      <td>1.928000</td>\n",
              "      <td>1.0</td>\n",
              "      <td>1.14600</td>\n",
              "      <td>1.400000</td>\n",
              "      <td>1.038000</td>\n",
              "    </tr>\n",
              "    <tr>\n",
              "      <th>std</th>\n",
              "      <td>12.30742</td>\n",
              "      <td>2831.386861</td>\n",
              "      <td>1.113724</td>\n",
              "      <td>1.150017</td>\n",
              "      <td>1.064268</td>\n",
              "      <td>11.501522</td>\n",
              "      <td>0.539814</td>\n",
              "      <td>0.0</td>\n",
              "      <td>0.35346</td>\n",
              "      <td>0.490389</td>\n",
              "      <td>0.191388</td>\n",
              "    </tr>\n",
              "    <tr>\n",
              "      <th>min</th>\n",
              "      <td>4.00000</td>\n",
              "      <td>276.000000</td>\n",
              "      <td>1.000000</td>\n",
              "      <td>1.000000</td>\n",
              "      <td>1.000000</td>\n",
              "      <td>19.000000</td>\n",
              "      <td>1.000000</td>\n",
              "      <td>1.0</td>\n",
              "      <td>1.00000</td>\n",
              "      <td>1.000000</td>\n",
              "      <td>1.000000</td>\n",
              "    </tr>\n",
              "    <tr>\n",
              "      <th>25%</th>\n",
              "      <td>12.00000</td>\n",
              "      <td>1357.250000</td>\n",
              "      <td>2.000000</td>\n",
              "      <td>2.000000</td>\n",
              "      <td>1.000000</td>\n",
              "      <td>27.000000</td>\n",
              "      <td>2.000000</td>\n",
              "      <td>1.0</td>\n",
              "      <td>1.00000</td>\n",
              "      <td>1.000000</td>\n",
              "      <td>1.000000</td>\n",
              "    </tr>\n",
              "    <tr>\n",
              "      <th>50%</th>\n",
              "      <td>18.00000</td>\n",
              "      <td>2236.500000</td>\n",
              "      <td>3.000000</td>\n",
              "      <td>2.000000</td>\n",
              "      <td>3.000000</td>\n",
              "      <td>33.000000</td>\n",
              "      <td>2.000000</td>\n",
              "      <td>1.0</td>\n",
              "      <td>1.00000</td>\n",
              "      <td>1.000000</td>\n",
              "      <td>1.000000</td>\n",
              "    </tr>\n",
              "    <tr>\n",
              "      <th>75%</th>\n",
              "      <td>24.00000</td>\n",
              "      <td>3941.500000</td>\n",
              "      <td>4.000000</td>\n",
              "      <td>4.000000</td>\n",
              "      <td>3.000000</td>\n",
              "      <td>42.000000</td>\n",
              "      <td>2.000000</td>\n",
              "      <td>1.0</td>\n",
              "      <td>1.00000</td>\n",
              "      <td>2.000000</td>\n",
              "      <td>1.000000</td>\n",
              "    </tr>\n",
              "    <tr>\n",
              "      <th>max</th>\n",
              "      <td>60.00000</td>\n",
              "      <td>18424.000000</td>\n",
              "      <td>4.000000</td>\n",
              "      <td>4.000000</td>\n",
              "      <td>4.000000</td>\n",
              "      <td>75.000000</td>\n",
              "      <td>3.000000</td>\n",
              "      <td>1.0</td>\n",
              "      <td>2.00000</td>\n",
              "      <td>2.000000</td>\n",
              "      <td>2.000000</td>\n",
              "    </tr>\n",
              "  </tbody>\n",
              "</table>\n",
              "</div>"
            ],
            "text/plain": [
              "       Duration-of-Credit-Month  Credit-Amount  ...   Telephone  Foreign-Worker\n",
              "count                 500.00000     500.000000  ...  500.000000      500.000000\n",
              "mean                   21.43400    3199.980000  ...    1.400000        1.038000\n",
              "std                    12.30742    2831.386861  ...    0.490389        0.191388\n",
              "min                     4.00000     276.000000  ...    1.000000        1.000000\n",
              "25%                    12.00000    1357.250000  ...    1.000000        1.000000\n",
              "50%                    18.00000    2236.500000  ...    1.000000        1.000000\n",
              "75%                    24.00000    3941.500000  ...    2.000000        1.000000\n",
              "max                    60.00000   18424.000000  ...    2.000000        2.000000\n",
              "\n",
              "[8 rows x 11 columns]"
            ]
          },
          "metadata": {},
          "execution_count": 7
        }
      ]
    },
    {
      "cell_type": "markdown",
      "metadata": {
        "id": "dhTdlBpcuImQ"
      },
      "source": [
        "Checking missing records"
      ]
    },
    {
      "cell_type": "code",
      "metadata": {
        "id": "uUEgLgCVuM8a"
      },
      "source": [
        "def missing_percentage(df):\n",
        "    \"\"\"This function takes a DataFrame(df) as input and returns two columns, total missing values and total missing values percentage\"\"\"\n",
        "    total = df.isnull().sum().sort_values(ascending = False)[df.isnull().sum().sort_values(ascending = False) != 0]\n",
        "    percent = round(df.isnull().sum().sort_values(ascending = False)/len(df)*100,2)[round(df.isnull().sum().sort_values(ascending = False)/len(df)*100,2) != 0]\n",
        "    return pd.concat([total, percent], axis=1, keys=['Total','Percent'])"
      ],
      "execution_count": null,
      "outputs": []
    },
    {
      "cell_type": "code",
      "metadata": {
        "colab": {
          "base_uri": "https://localhost:8080/"
        },
        "id": "3OQObAk8ujsK",
        "outputId": "cdbb3f4a-c855-49b2-ff2a-66d6b43d4515"
      },
      "source": [
        "# checking train data missing records\n",
        "missing_percentage(train_data)"
      ],
      "execution_count": null,
      "outputs": [
        {
          "output_type": "execute_result",
          "data": {
            "text/html": [
              "<div>\n",
              "<style scoped>\n",
              "    .dataframe tbody tr th:only-of-type {\n",
              "        vertical-align: middle;\n",
              "    }\n",
              "\n",
              "    .dataframe tbody tr th {\n",
              "        vertical-align: top;\n",
              "    }\n",
              "\n",
              "    .dataframe thead th {\n",
              "        text-align: right;\n",
              "    }\n",
              "</style>\n",
              "<table border=\"1\" class=\"dataframe\">\n",
              "  <thead>\n",
              "    <tr style=\"text-align: right;\">\n",
              "      <th></th>\n",
              "      <th>Total</th>\n",
              "      <th>Percent</th>\n",
              "    </tr>\n",
              "  </thead>\n",
              "  <tbody>\n",
              "    <tr>\n",
              "      <th>Duration-in-Current-address</th>\n",
              "      <td>344</td>\n",
              "      <td>68.8</td>\n",
              "    </tr>\n",
              "    <tr>\n",
              "      <th>Age-years</th>\n",
              "      <td>12</td>\n",
              "      <td>2.4</td>\n",
              "    </tr>\n",
              "  </tbody>\n",
              "</table>\n",
              "</div>"
            ],
            "text/plain": [
              "                             Total  Percent\n",
              "Duration-in-Current-address    344     68.8\n",
              "Age-years                       12      2.4"
            ]
          },
          "metadata": {},
          "execution_count": 9
        }
      ]
    },
    {
      "cell_type": "markdown",
      "metadata": {
        "id": "XpQwgTjPSevF"
      },
      "source": [
        "\n",
        "- 'Duration-in-current-address' seems to be missing more than half of the total observations \n",
        "- 'age-years' is missing only 2.4%"
      ]
    },
    {
      "cell_type": "markdown",
      "metadata": {
        "id": "-B-HK-BOU0h3"
      },
      "source": [
        "#### Exploring categorical variables\n",
        " **Number of labels**\n",
        "\n",
        "High number of labels may pose some serious problems in the machine learning model. So it would be checked."
      ]
    },
    {
      "cell_type": "code",
      "metadata": {
        "id": "PrhoTqsFIeW7"
      },
      "source": [
        "cat_var = train_data.select_dtypes(include=['object'])\n",
        "#function that prints out the unique and number of records for that particular category of the categorical variables\n",
        "def check_cat(data):\n",
        "    \"\"\"\n",
        "    This function checks the number of labels within a categorical variable\n",
        "    \n",
        "    INPUT:\n",
        "    data:DataFrame, dataset\n",
        "    \"\"\"\n",
        "    for col in cat_var:\n",
        "        print('Unique values')\n",
        "        print('-------------------------')\n",
        "        print(data[col].unique())\n",
        "        print()\n",
        "        print('Unique value counts')\n",
        "        print('-------------------------')\n",
        "        print(data[col].value_counts(), '\\n')\n",
        "        print()\n"
      ],
      "execution_count": null,
      "outputs": []
    },
    {
      "cell_type": "code",
      "metadata": {
        "colab": {
          "base_uri": "https://localhost:8080/"
        },
        "id": "VZeFu4lrwKOW",
        "outputId": "42db7489-6f9d-490c-8fb2-84b0f42ad148"
      },
      "source": [
        "# checking cat features\n",
        "check_cat(train_data)"
      ],
      "execution_count": null,
      "outputs": [
        {
          "output_type": "stream",
          "name": "stdout",
          "text": [
            "Unique values\n",
            "-------------------------\n",
            "['Creditworthy' 'Non-Creditworthy']\n",
            "\n",
            "Unique value counts\n",
            "-------------------------\n",
            "Creditworthy        358\n",
            "Non-Creditworthy    142\n",
            "Name: Credit-Application-Result, dtype: int64 \n",
            "\n",
            "\n",
            "Unique values\n",
            "-------------------------\n",
            "['Some Balance' 'No Account']\n",
            "\n",
            "Unique value counts\n",
            "-------------------------\n",
            "No Account      262\n",
            "Some Balance    238\n",
            "Name: Account-Balance, dtype: int64 \n",
            "\n",
            "\n",
            "Unique values\n",
            "-------------------------\n",
            "['Paid Up' 'No Problems (in this bank)' 'Some Problems']\n",
            "\n",
            "Unique value counts\n",
            "-------------------------\n",
            "Paid Up                       260\n",
            "No Problems (in this bank)    204\n",
            "Some Problems                  36\n",
            "Name: Payment-Status-of-Previous-Credit, dtype: int64 \n",
            "\n",
            "\n",
            "Unique values\n",
            "-------------------------\n",
            "['Other' 'Home Related' 'Used car' 'New car']\n",
            "\n",
            "Unique value counts\n",
            "-------------------------\n",
            "Home Related    355\n",
            "Used car         83\n",
            "New car          47\n",
            "Other            15\n",
            "Name: Purpose, dtype: int64 \n",
            "\n",
            "\n",
            "Unique values\n",
            "-------------------------\n",
            "['£100-£1000' 'None' '< £100']\n",
            "\n",
            "Unique value counts\n",
            "-------------------------\n",
            "None          298\n",
            "£100-£1000    154\n",
            "< £100         48\n",
            "Name: Value-Savings-Stocks, dtype: int64 \n",
            "\n",
            "\n",
            "Unique values\n",
            "-------------------------\n",
            "['< 1yr' '1-4 yrs' '4-7 yrs']\n",
            "\n",
            "Unique value counts\n",
            "-------------------------\n",
            "< 1yr      279\n",
            "4-7 yrs    124\n",
            "1-4 yrs     97\n",
            "Name: Length-of-current-employment, dtype: int64 \n",
            "\n",
            "\n",
            "Unique values\n",
            "-------------------------\n",
            "['None' 'Yes']\n",
            "\n",
            "Unique value counts\n",
            "-------------------------\n",
            "None    457\n",
            "Yes      43\n",
            "Name: Guarantors, dtype: int64 \n",
            "\n",
            "\n",
            "Unique values\n",
            "-------------------------\n",
            "['Other Banks/Depts']\n",
            "\n",
            "Unique value counts\n",
            "-------------------------\n",
            "Other Banks/Depts    500\n",
            "Name: Concurrent-Credits, dtype: int64 \n",
            "\n",
            "\n",
            "Unique values\n",
            "-------------------------\n",
            "['1' 'More than 1']\n",
            "\n",
            "Unique value counts\n",
            "-------------------------\n",
            "1              320\n",
            "More than 1    180\n",
            "Name: No-of-Credits-at-this-Bank, dtype: int64 \n",
            "\n",
            "\n"
          ]
        }
      ]
    },
    {
      "cell_type": "code",
      "metadata": {
        "colab": {
          "base_uri": "https://localhost:8080/"
        },
        "id": "fN3jj9tOYxGk",
        "outputId": "0e424549-6056-4470-f440-eeb219f93df4"
      },
      "source": [
        "cate_var = test_data.select_dtypes(include=['object'])\n",
        "#function that prints out the unique and number of records for that particular category of the categorical variables\n",
        "def check_cat(data):\n",
        "    for col in cate_var:\n",
        "        print('Unique values')\n",
        "        print('-------------------------')\n",
        "        print(data[col].unique())\n",
        "        print()\n",
        "        print('Unique value counts')\n",
        "        print('-------------------------')\n",
        "        print(data[col].value_counts(), '\\n')\n",
        "        print()\n",
        "        \n",
        "check_cat(test_data)"
      ],
      "execution_count": null,
      "outputs": [
        {
          "output_type": "stream",
          "name": "stdout",
          "text": [
            "Unique values\n",
            "-------------------------\n",
            "['No Account' 'Some Balance']\n",
            "\n",
            "Unique value counts\n",
            "-------------------------\n",
            "No Account      282\n",
            "Some Balance    218\n",
            "Name: Account-Balance, dtype: int64 \n",
            "\n",
            "\n",
            "Unique values\n",
            "-------------------------\n",
            "['No Problems (in this bank)' 'Paid Up' 'Some Problems']\n",
            "\n",
            "Unique value counts\n",
            "-------------------------\n",
            "Paid Up                       272\n",
            "No Problems (in this bank)    176\n",
            "Some Problems                  52\n",
            "Name: Payment-Status-of-Previous-Credit, dtype: int64 \n",
            "\n",
            "\n",
            "Unique values\n",
            "-------------------------\n",
            "['Home Related' 'New car' 'Used car']\n",
            "\n",
            "Unique value counts\n",
            "-------------------------\n",
            "Home Related    354\n",
            "Used car         94\n",
            "New car          52\n",
            "Name: Purpose, dtype: int64 \n",
            "\n",
            "\n",
            "Unique values\n",
            "-------------------------\n",
            "['None' '£100-£1000' '< £100']\n",
            "\n",
            "Unique value counts\n",
            "-------------------------\n",
            "None          300\n",
            "£100-£1000    145\n",
            "< £100         55\n",
            "Name: Value-Savings-Stocks, dtype: int64 \n",
            "\n",
            "\n",
            "Unique values\n",
            "-------------------------\n",
            "['< 1yr' '1-4 yrs' '4-7 yrs']\n",
            "\n",
            "Unique value counts\n",
            "-------------------------\n",
            "< 1yr      291\n",
            "4-7 yrs    131\n",
            "1-4 yrs     78\n",
            "Name: Length-of-current-employment, dtype: int64 \n",
            "\n",
            "\n",
            "Unique values\n",
            "-------------------------\n",
            "['None' 'Yes']\n",
            "\n",
            "Unique value counts\n",
            "-------------------------\n",
            "None    451\n",
            "Yes      49\n",
            "Name: Guarantors, dtype: int64 \n",
            "\n",
            "\n",
            "Unique values\n",
            "-------------------------\n",
            "['Other Banks/Depts']\n",
            "\n",
            "Unique value counts\n",
            "-------------------------\n",
            "Other Banks/Depts    500\n",
            "Name: Concurrent-Credits, dtype: int64 \n",
            "\n",
            "\n",
            "Unique values\n",
            "-------------------------\n",
            "['More than 1' '1']\n",
            "\n",
            "Unique value counts\n",
            "-------------------------\n",
            "1              313\n",
            "More than 1    187\n",
            "Name: No-of-Credits-at-this-Bank, dtype: int64 \n",
            "\n",
            "\n"
          ]
        }
      ]
    },
    {
      "cell_type": "markdown",
      "metadata": {
        "id": "OBPULCgKBVuw"
      },
      "source": [
        "- Both datasets have moderate categorical feature labels\n",
        "- The purpose feature in the train set has more labels compared to the one in the test set. This would be taken care of during the preprocessing stage."
      ]
    },
    {
      "cell_type": "markdown",
      "metadata": {
        "id": "z_bH6LfRxlF-"
      },
      "source": [
        "**Checking credit distribution among categorical features**"
      ]
    },
    {
      "cell_type": "code",
      "metadata": {
        "colab": {
          "base_uri": "https://localhost:8080/"
        },
        "id": "VeP37PyIxVOW",
        "outputId": "4a29a690-1000-48ad-9fc1-9154b77b0d22"
      },
      "source": [
        "import matplotlib.style as style\n",
        "style.use('fivethirtyeight')\n",
        "fig,axes = plt.subplots(3,3, figsize=(24,16))\n",
        "for index,cat_col in enumerate(cat_var):\n",
        "    row,col = index//3,index%3\n",
        "    sns.countplot(x=cat_col,data=train_data,hue='Credit-Application-Result',ax=axes[row,col])\n",
        "    \n",
        "plt.subplots_adjust(hspace=0.5)\n",
        "plt.tight_layout()\n",
        "plt.show()"
      ],
      "execution_count": null,
      "outputs": [
        {
          "output_type": "display_data",
          "data": {
            "image/png": "[encoded data removed]",
            "text/plain": [
              "<Figure size 1728x1152 with 9 Axes>"
            ]
          },
          "metadata": {}
        }
      ]
    },
    {
      "cell_type": "markdown",
      "metadata": {
        "id": "AmYVAzXyypLt"
      },
      "source": [
        "The plot above conveys the following about the dataset:\n",
        "\n",
        "- Loan Approval Status: About 2/3rd of applicants have been granted loan.\n",
        "- Guarantors feature shows low variability where more than 80% of the data skewed towards one data category.\n",
        "- Concurrent-Credits  has one unique value.\n",
        "- Applicant with credit positive history were more likely approved.\n",
        "- Applicants with home related purpose were approved more."
      ]
    },
    {
      "cell_type": "markdown",
      "metadata": {
        "id": "A5g-jGDLcrrG"
      },
      "source": [
        "**Checking relationship between categorical variables**\n",
        "\n",
        "Using ***a chi-square test for independence*** to compare the target variable and other categorical variables to see if they are related.\n",
        "\n",
        " p_value = 0.05\n",
        "\n",
        " - ***null hypothesis*** : target variable and categorical predictor are not related\n",
        " - ***alternative hypothesis*** : target variable and categorical predictor are related."
      ]
    },
    {
      "cell_type": "code",
      "metadata": {
        "id": "4lkpPQq5cq_5"
      },
      "source": [
        "def check_relationship(df,x,y):\n",
        "  \"\"\"\n",
        "    checks the relationship between categorical variables.\n",
        "    \n",
        "    INPUT:\n",
        "    df: DataFrame, dataset.\n",
        "    x: object, categorical variable\n",
        "    y: object, second categorical variable\n",
        "\n",
        "    OUTPUT: \n",
        "    check_relationship: returns chi squared test results\n",
        "    \n",
        "  \"\"\"\n",
        "  table = pd.crosstab(df[x],df[y])\n",
        "  test = stat()\n",
        "  test.chisq(df=table)\n",
        "\n",
        "  print('null hypothesis: {} and {} are not related'.format(x,y))\n",
        "  print('altenative hypothesis: {} and {} are related'.format(x,y))\n",
        "  print()\n",
        "  print('test results')\n",
        "  print('='*60)\n",
        "  print('observed frequency values \\n')\n",
        "  print(table)\n",
        "\n",
        "  print('='*60)\n",
        "  print(test.expected_df)\n",
        "  print('='*60)\n",
        "  print(test.summary)\n"
      ],
      "execution_count": null,
      "outputs": []
    },
    {
      "cell_type": "markdown",
      "metadata": {
        "id": "hh9jKpwKeSD9"
      },
      "source": [
        "Target variable and Account balance"
      ]
    },
    {
      "cell_type": "code",
      "metadata": {
        "colab": {
          "base_uri": "https://localhost:8080/"
        },
        "id": "fNe8Y1D_d_HL",
        "outputId": "c7ab2c30-9207-4138-ad95-16ad55e8eb4e"
      },
      "source": [
        "check_relationship(train_data,'Credit-Application-Result','Account-Balance')"
      ],
      "execution_count": null,
      "outputs": [
        {
          "output_type": "stream",
          "name": "stdout",
          "text": [
            "null hypothesis: Credit-Application-Result and Account-Balance are not related\n",
            "altenative hypothesis: Credit-Application-Result and Account-Balance are related\n",
            "\n",
            "test results\n",
            "============================================================\n",
            "observed frequency values \n",
            "\n",
            "Account-Balance            No Account  Some Balance\n",
            "Credit-Application-Result                          \n",
            "Creditworthy                      152           206\n",
            "Non-Creditworthy                  110            32\n",
            "============================================================\n",
            "\n",
            "Expected frequency counts\n",
            "\n",
            "      No Account    Some Balance\n",
            "--  ------------  --------------\n",
            " 0       187.592         170.408\n",
            " 1        74.408          67.592\n",
            "\n",
            "============================================================\n",
            "\n",
            "Chi-squared test for independence\n",
            "\n",
            "Test              Df    Chi-square      P-value\n",
            "--------------  ----  ------------  -----------\n",
            "Pearson            1       48.5598  3.20374e-12\n",
            "Log-likelihood     1       50.8098  1.01762e-12\n",
            "\n"
          ]
        }
      ]
    },
    {
      "cell_type": "markdown",
      "metadata": {
        "id": "Cn40PIvLjwhE"
      },
      "source": [
        "From the results, p_value < 0.05 thus the null hypothesis is rejected. There is an association between target variable and Account balance"
      ]
    },
    {
      "cell_type": "markdown",
      "metadata": {
        "id": "0i2E75k9kRlR"
      },
      "source": [
        "Target variable and Guarantors "
      ]
    },
    {
      "cell_type": "code",
      "metadata": {
        "colab": {
          "base_uri": "https://localhost:8080/"
        },
        "id": "_5rDqDdkd_D3",
        "outputId": "c1424a88-db7f-47da-ab49-6b5da93ad944"
      },
      "source": [
        "check_relationship(train_data, 'Credit-Application-Result','Guarantors',)"
      ],
      "execution_count": null,
      "outputs": [
        {
          "output_type": "stream",
          "name": "stdout",
          "text": [
            "null hypothesis: Credit-Application-Result and Guarantors are not related\n",
            "altenative hypothesis: Credit-Application-Result and Guarantors are related\n",
            "\n",
            "test results\n",
            "============================================================\n",
            "observed frequency values \n",
            "\n",
            "Guarantors                 None  Yes\n",
            "Credit-Application-Result           \n",
            "Creditworthy                330   28\n",
            "Non-Creditworthy            127   15\n",
            "============================================================\n",
            "\n",
            "Expected frequency counts\n",
            "\n",
            "       None     Yes\n",
            "--  -------  ------\n",
            " 0  327.212  30.788\n",
            " 1  129.788  12.212\n",
            "\n",
            "============================================================\n",
            "\n",
            "Chi-squared test for independence\n",
            "\n",
            "Test              Df    Chi-square    P-value\n",
            "--------------  ----  ------------  ---------\n",
            "Pearson            1      0.655037   0.418317\n",
            "Log-likelihood     1      0.635101   0.425491\n",
            "\n"
          ]
        }
      ]
    },
    {
      "cell_type": "markdown",
      "metadata": {
        "id": "3Lh9SgulvGt5"
      },
      "source": [
        "From the results, p_value > 0.05 thus the null hypothesis cannot be rejected. There is no association between guarantors and target variable."
      ]
    },
    {
      "cell_type": "markdown",
      "metadata": {
        "id": "4MP48klAxGve"
      },
      "source": [
        "Target variable and  Purpose"
      ]
    },
    {
      "cell_type": "code",
      "metadata": {
        "colab": {
          "base_uri": "https://localhost:8080/"
        },
        "id": "tmcGGDtwd-_5",
        "outputId": "d3506d1a-b135-4f89-a515-842caa437ae0"
      },
      "source": [
        "check_relationship(train_data, 'Credit-Application-Result', 'Purpose')"
      ],
      "execution_count": null,
      "outputs": [
        {
          "output_type": "stream",
          "name": "stdout",
          "text": [
            "null hypothesis: Credit-Application-Result and Purpose are not related\n",
            "altenative hypothesis: Credit-Application-Result and Purpose are related\n",
            "\n",
            "test results\n",
            "============================================================\n",
            "observed frequency values \n",
            "\n",
            "Purpose                    Home Related  New car  Other  Used car\n",
            "Credit-Application-Result                                        \n",
            "Creditworthy                        244       40     12        62\n",
            "Non-Creditworthy                    111        7      3        21\n",
            "============================================================\n",
            "\n",
            "Expected frequency counts\n",
            "\n",
            "      Home Related    New car    Other    Used car\n",
            "--  --------------  ---------  -------  ----------\n",
            " 0          254.18     33.652    10.74      59.428\n",
            " 1          100.82     13.348     4.26      23.572\n",
            "\n",
            "============================================================\n",
            "\n",
            "Chi-squared test for independence\n",
            "\n",
            "Test              Df    Chi-square    P-value\n",
            "--------------  ----  ------------  ---------\n",
            "Pearson            3       6.56448  0.0871538\n",
            "Log-likelihood     3       7.15598  0.0670889\n",
            "\n"
          ]
        }
      ]
    },
    {
      "cell_type": "markdown",
      "metadata": {
        "id": "9ZSwGeaMvm4M"
      },
      "source": [
        "From the results, p_value > 0.05 thus the null hypothesis cannot be rejected. There is no association between target variable and Purpose."
      ]
    },
    {
      "cell_type": "markdown",
      "metadata": {
        "id": "v1LJ1JetxFbm"
      },
      "source": [
        "Target variable and Value-Savings-Stocks"
      ]
    },
    {
      "cell_type": "code",
      "metadata": {
        "colab": {
          "base_uri": "https://localhost:8080/"
        },
        "id": "OZsjb7RRxCK0",
        "outputId": "872eebf2-85d9-46cc-a9aa-97ffca74446f"
      },
      "source": [
        "check_relationship(train_data, 'Credit-Application-Result', 'Value-Savings-Stocks')"
      ],
      "execution_count": null,
      "outputs": [
        {
          "output_type": "stream",
          "name": "stdout",
          "text": [
            "null hypothesis: Credit-Application-Result and Value-Savings-Stocks are not related\n",
            "altenative hypothesis: Credit-Application-Result and Value-Savings-Stocks are related\n",
            "\n",
            "test results\n",
            "============================================================\n",
            "observed frequency values \n",
            "\n",
            "Value-Savings-Stocks       < £100  None  £100-£1000\n",
            "Credit-Application-Result                          \n",
            "Creditworthy                   36   195         127\n",
            "Non-Creditworthy               12   103          27\n",
            "============================================================\n",
            "\n",
            "Expected frequency counts\n",
            "\n",
            "      < £100     None    £100-£1000\n",
            "--  --------  -------  ------------\n",
            " 0    34.368  213.368       110.264\n",
            " 1    13.632   84.632        43.736\n",
            "\n",
            "============================================================\n",
            "\n",
            "Chi-squared test for independence\n",
            "\n",
            "Test              Df    Chi-square      P-value\n",
            "--------------  ----  ------------  -----------\n",
            "Pearson            2        14.785  0.00061586\n",
            "Log-likelihood     2        15.481  0.000434851\n",
            "\n"
          ]
        }
      ]
    },
    {
      "cell_type": "markdown",
      "metadata": {
        "id": "3wWvBrY-xjIf"
      },
      "source": [
        "From the results, p_value < 0.05 thus the null hypothesis is  rejected. There is an association between target variable and Value-savings-stocks"
      ]
    },
    {
      "cell_type": "markdown",
      "metadata": {
        "id": "DTgYG82Lx1bS"
      },
      "source": [
        "Target variable and Length-of-Current-Employment"
      ]
    },
    {
      "cell_type": "code",
      "metadata": {
        "colab": {
          "base_uri": "https://localhost:8080/"
        },
        "id": "3JTnAUk2xCIA",
        "outputId": "74cd12b0-2256-42c0-f459-5b6895d918f2"
      },
      "source": [
        "check_relationship(train_data, 'Account-Balance', 'Length-of-current-employment')"
      ],
      "execution_count": null,
      "outputs": [
        {
          "output_type": "stream",
          "name": "stdout",
          "text": [
            "null hypothesis: Account-Balance and Length-of-current-employment are not related\n",
            "altenative hypothesis: Account-Balance and Length-of-current-employment are related\n",
            "\n",
            "test results\n",
            "============================================================\n",
            "observed frequency values \n",
            "\n",
            "Length-of-current-employment  1-4 yrs  4-7 yrs  < 1yr\n",
            "Account-Balance                                      \n",
            "No Account                         56       54    152\n",
            "Some Balance                       41       70    127\n",
            "============================================================\n",
            "\n",
            "Expected frequency counts\n",
            "\n",
            "      1-4 yrs    4-7 yrs    < 1yr\n",
            "--  ---------  ---------  -------\n",
            " 0     50.828     64.976  146.196\n",
            " 1     46.172     59.024  132.804\n",
            "\n",
            "============================================================\n",
            "\n",
            "Chi-squared test for independence\n",
            "\n",
            "Test              Df    Chi-square    P-value\n",
            "--------------  ----  ------------  ---------\n",
            "Pearson            2       5.48488  0.0644128\n",
            "Log-likelihood     2       5.48991  0.0642511\n",
            "\n"
          ]
        }
      ]
    },
    {
      "cell_type": "markdown",
      "metadata": {
        "id": "iPANwt7byl19"
      },
      "source": [
        "From the results, p_value > 0.05 thus the null hypothesis cannot be rejected. There is no association between target variable and length of current employment"
      ]
    },
    {
      "cell_type": "markdown",
      "metadata": {
        "id": "EgS0rdP31-7T"
      },
      "source": [
        "Target variable and Concurrent credits"
      ]
    },
    {
      "cell_type": "code",
      "metadata": {
        "colab": {
          "base_uri": "https://localhost:8080/"
        },
        "id": "X3YggNWcxCBX",
        "outputId": "01803927-5468-4b1f-fe28-4717835e5991"
      },
      "source": [
        "check_relationship(train_data, 'Credit-Application-Result', 'Concurrent-Credits')"
      ],
      "execution_count": null,
      "outputs": [
        {
          "output_type": "stream",
          "name": "stdout",
          "text": [
            "null hypothesis: Credit-Application-Result and Concurrent-Credits are not related\n",
            "altenative hypothesis: Credit-Application-Result and Concurrent-Credits are related\n",
            "\n",
            "test results\n",
            "============================================================\n",
            "observed frequency values \n",
            "\n",
            "Concurrent-Credits         Other Banks/Depts\n",
            "Credit-Application-Result                   \n",
            "Creditworthy                             358\n",
            "Non-Creditworthy                         142\n",
            "============================================================\n",
            "\n",
            "Expected frequency counts\n",
            "\n",
            "      Other Banks/Depts\n",
            "--  -------------------\n",
            " 0                  358\n",
            " 1                  142\n",
            "\n",
            "============================================================\n",
            "\n",
            "Chi-squared test for independence\n",
            "\n",
            "Test              Df    Chi-square    P-value\n",
            "--------------  ----  ------------  ---------\n",
            "Pearson            0             0          1\n",
            "Log-likelihood     0             0          1\n",
            "\n"
          ]
        }
      ]
    },
    {
      "cell_type": "markdown",
      "metadata": {
        "id": "Hyuw_B-I2nYr"
      },
      "source": [
        "p_value > 0.05, the null hypothesis cannot be rejected"
      ]
    },
    {
      "cell_type": "markdown",
      "metadata": {
        "id": "PO4Aptcf2hPr"
      },
      "source": [
        "From the analysis above, there’s definitely an issue of multicolinearity but features not associated with the target variables cannot be dropped because they might be dependent on other variables. "
      ]
    },
    {
      "cell_type": "markdown",
      "metadata": {
        "id": "561NnkkD11Ec"
      },
      "source": [
        "#### Exploring numerical variables\n"
      ]
    },
    {
      "cell_type": "markdown",
      "metadata": {
        "id": "z40HOC6l3vRp"
      },
      "source": [
        "**Checking distribution of numerical variables**"
      ]
    },
    {
      "cell_type": "code",
      "metadata": {
        "id": "41YS-Y_gRUsk"
      },
      "source": [
        "def plotting_chart(df, feature):\n",
        "    \"\"\"\n",
        "    This function plots the distribution of the numerical variables\n",
        "    \n",
        "    INPUT:\n",
        "    df:DataFrame,dataset\n",
        "    feature: float or int,numerical features\n",
        "    \"\"\"\n",
        "    import matplotlib.pyplot as plt\n",
        "    import matplotlib.gridspec as gridspec\n",
        "    from scipy import stats\n",
        "    import matplotlib.style as style\n",
        "    style.use('fivethirtyeight')\n",
        "\n",
        "    ## Creating a customized chart. \n",
        "    fig = plt.figure(constrained_layout=True, figsize=(12,8))\n",
        "    ## creating a grid of 3 cols and 3 rows. \n",
        "    grid = gridspec.GridSpec(ncols=3, nrows=3, figure=fig)\n",
        "\n",
        "    ## Customizing the histogram grid. \n",
        "    ax1 = fig.add_subplot(grid[0, :2])\n",
        "    ## Set the title. \n",
        "    ax1.set_title('Histogram')\n",
        "    ## plot the histogram. \n",
        "    sns.distplot(df.loc[:,feature], norm_hist=True, ax = ax1)\n",
        "\n",
        "    ## Customizing the Box Plot. \n",
        "    ax3 = fig.add_subplot(grid[:, 2])\n",
        "    ## Set title. \n",
        "    ax3.set_title('Box Plot')\n",
        "    ## Plotting the box plot. \n",
        "    sns.boxplot(df.loc[:,feature], orient='v', ax = ax3 );"
      ],
      "execution_count": null,
      "outputs": []
    },
    {
      "cell_type": "markdown",
      "metadata": {
        "id": "wnxYsH1V3jbt"
      },
      "source": [
        "Credit amount distribution "
      ]
    },
    {
      "cell_type": "code",
      "metadata": {
        "colab": {
          "base_uri": "https://localhost:8080/"
        },
        "id": "CdKyQ0Tz3FkM",
        "outputId": "94b9ce8b-fa78-4a8d-c4e7-dfb7374cb83c"
      },
      "source": [
        "plotting_chart(train_data, 'Credit-Amount')"
      ],
      "execution_count": null,
      "outputs": [
        {
          "output_type": "display_data",
          "data": {
            "image/png": "[encoded data removed]",
            "text/plain": [
              "<Figure size 864x576 with 2 Axes>"
            ]
          },
          "metadata": {}
        }
      ]
    },
    {
      "cell_type": "markdown",
      "metadata": {
        "id": "yH87-NLK693E"
      },
      "source": [
        "- Credit amount does not follow a normal distribution \n",
        "- Data is skewed to the right\n",
        "- There are some outliers"
      ]
    },
    {
      "cell_type": "markdown",
      "metadata": {
        "id": "lnAfyhTA5XIm"
      },
      "source": [
        "Duration of credit month"
      ]
    },
    {
      "cell_type": "code",
      "metadata": {
        "colab": {
          "base_uri": "https://localhost:8080/"
        },
        "id": "HWF10LsERUoz",
        "outputId": "42177da7-fe59-4c90-a6e3-10a3c62463b6"
      },
      "source": [
        "plotting_chart(train_data,'Duration-of-Credit-Month')"
      ],
      "execution_count": null,
      "outputs": [
        {
          "output_type": "display_data",
          "data": {
            "image/png": "[encoded data removed]",
            "text/plain": [
              "<Figure size 864x576 with 2 Axes>"
            ]
          },
          "metadata": {}
        }
      ]
    },
    {
      "cell_type": "markdown",
      "metadata": {
        "id": "PZ0CwdPE66aL"
      },
      "source": [
        "- Duration-of-Credit-Month does not exactly follow a normal distribution \n",
        "- There are a couple of outliers\n",
        "- More people seem to pay back their loan within 10 and 20 months"
      ]
    },
    {
      "cell_type": "markdown",
      "metadata": {
        "id": "FEOts-Gj7rfj"
      },
      "source": [
        "Installment-per-cent\n"
      ]
    },
    {
      "cell_type": "code",
      "metadata": {
        "colab": {
          "base_uri": "https://localhost:8080/"
        },
        "id": "ssmjvDOh65xh",
        "outputId": "51314557-93ea-4894-cb9c-5c55c33e3011"
      },
      "source": [
        "plotting_chart(train_data, 'Instalment-per-cent')"
      ],
      "execution_count": null,
      "outputs": [
        {
          "output_type": "display_data",
          "data": {
            "image/png": "[encoded data removed]",
            "text/plain": [
              "<Figure size 864x576 with 2 Axes>"
            ]
          },
          "metadata": {}
        }
      ]
    },
    {
      "cell_type": "markdown",
      "metadata": {
        "id": "RuIzVvxB8Gqo"
      },
      "source": [
        "- Instalment-per-cent is not exactly normal\n",
        "- There seem to be no outlier\n",
        "- More people seem to pay their loan in four installments."
      ]
    },
    {
      "cell_type": "markdown",
      "metadata": {
        "id": "NZ1PfHr29Hgs"
      },
      "source": [
        "Duration-in-Current-address"
      ]
    },
    {
      "cell_type": "code",
      "metadata": {
        "colab": {
          "base_uri": "https://localhost:8080/"
        },
        "id": "x1Txh5Hv65u6",
        "outputId": "66d1a4c2-36ed-4588-e175-bec976d371c3"
      },
      "source": [
        "plotting_chart(train_data, 'Duration-in-Current-address')"
      ],
      "execution_count": null,
      "outputs": [
        {
          "output_type": "display_data",
          "data": {
            "image/png": "[encoded data removed]",
            "text/plain": [
              "<Figure size 864x576 with 2 Axes>"
            ]
          },
          "metadata": {}
        }
      ]
    },
    {
      "cell_type": "markdown",
      "metadata": {
        "id": "f1KIuUkv9-U3"
      },
      "source": [
        "- This feature cannot exactly be said to follow a normal distribution since it’s missing lots of records"
      ]
    },
    {
      "cell_type": "markdown",
      "metadata": {
        "id": "HNbrNauWD20W"
      },
      "source": [
        "Most-valuable-available-asset\t"
      ]
    },
    {
      "cell_type": "code",
      "metadata": {
        "colab": {
          "base_uri": "https://localhost:8080/"
        },
        "id": "hDd8HrAY65rx",
        "outputId": "017758c3-cfec-4ce1-ae39-d67f324ee367"
      },
      "source": [
        "plotting_chart(train_data, 'Most-valuable-available-asset')"
      ],
      "execution_count": null,
      "outputs": [
        {
          "output_type": "display_data",
          "data": {
            "image/png": "[encoded data removed]",
            "text/plain": [
              "<Figure size 864x576 with 2 Axes>"
            ]
          },
          "metadata": {}
        }
      ]
    },
    {
      "cell_type": "markdown",
      "metadata": {
        "id": "-jDaAyTCERSz"
      },
      "source": [
        "- Most-valuable-available-asset\tfeature seems to follow a normal distribution \n",
        "- No outliers were detected\n"
      ]
    },
    {
      "cell_type": "markdown",
      "metadata": {
        "id": "jpvxY2whEZP9"
      },
      "source": [
        "Age-years"
      ]
    },
    {
      "cell_type": "code",
      "metadata": {
        "colab": {
          "base_uri": "https://localhost:8080/"
        },
        "id": "XUr9hZQuDtcR",
        "outputId": "af02f1b0-fc68-425f-9b90-2a096c174e5f"
      },
      "source": [
        "plotting_chart(train_data, 'Age-years')"
      ],
      "execution_count": null,
      "outputs": [
        {
          "output_type": "display_data",
          "data": {
            "image/png": "[encoded data removed]",
            "text/plain": [
              "<Figure size 864x576 with 2 Axes>"
            ]
          },
          "metadata": {}
        }
      ]
    },
    {
      "cell_type": "markdown",
      "metadata": {
        "id": "UcaQyDd4Es39"
      },
      "source": [
        "- This feature seems to follow a normal distribution \n",
        "- Majority of loan applicants are between 25 and 40\n",
        "- There seem to be some outliers "
      ]
    },
    {
      "cell_type": "markdown",
      "metadata": {
        "id": "33T0nTMjFQkC"
      },
      "source": [
        "Type-of-apartment"
      ]
    },
    {
      "cell_type": "code",
      "metadata": {
        "colab": {
          "base_uri": "https://localhost:8080/"
        },
        "id": "Glvo6bdnDtYy",
        "outputId": "0feaf1eb-d5a3-43e6-df18-9fb754c11bd3"
      },
      "source": [
        "plotting_chart(train_data, 'Type-of-apartment')"
      ],
      "execution_count": null,
      "outputs": [
        {
          "output_type": "display_data",
          "data": {
            "image/png": "[encoded data removed]",
            "text/plain": [
              "<Figure size 864x576 with 2 Axes>"
            ]
          },
          "metadata": {}
        }
      ]
    },
    {
      "cell_type": "markdown",
      "metadata": {
        "id": "FQhhRuCQF39h"
      },
      "source": [
        "- More applicants belong to apartment 2 type.\n",
        "- This distribution shows low variability "
      ]
    },
    {
      "cell_type": "markdown",
      "metadata": {
        "id": "B-_X6egCGOa_"
      },
      "source": [
        "Occupation"
      ]
    },
    {
      "cell_type": "code",
      "metadata": {
        "colab": {
          "base_uri": "https://localhost:8080/"
        },
        "id": "CdfCeVm1DtUv",
        "outputId": "28316e0d-f4a0-42dd-9a9f-1bcb744d63f5"
      },
      "source": [
        "plotting_chart(train_data, 'Occupation')"
      ],
      "execution_count": null,
      "outputs": [
        {
          "output_type": "display_data",
          "data": {
            "image/png": "[encoded data removed]",
            "text/plain": [
              "<Figure size 864x576 with 2 Axes>"
            ]
          },
          "metadata": {}
        }
      ]
    },
    {
      "cell_type": "markdown",
      "metadata": {
        "id": "mrbDfsaeGxxf"
      },
      "source": [
        "- Every applicant had one occupation \n",
        "- This distribution shows low variability hence, feature would be dropped \n"
      ]
    },
    {
      "cell_type": "markdown",
      "metadata": {
        "id": "PBQHvTs4HOSg"
      },
      "source": [
        "No-of-dependents"
      ]
    },
    {
      "cell_type": "code",
      "metadata": {
        "colab": {
          "base_uri": "https://localhost:8080/"
        },
        "id": "EBIrQq7L65oV",
        "outputId": "6f9e9377-1b36-482a-8b3b-d9f49c7fcf56"
      },
      "source": [
        "plotting_chart(train_data, 'No-of-dependents')"
      ],
      "execution_count": null,
      "outputs": [
        {
          "output_type": "display_data",
          "data": {
            "image/png": "[encoded data removed]",
            "text/plain": [
              "<Figure size 864x576 with 2 Axes>"
            ]
          },
          "metadata": {}
        }
      ]
    },
    {
      "cell_type": "markdown",
      "metadata": {
        "id": "fZjMYxq-HXcL"
      },
      "source": [
        "- Most of the applicants had one dependent\n",
        "- This feature would be dropped "
      ]
    },
    {
      "cell_type": "markdown",
      "metadata": {
        "id": "dhq3pa5bHgSE"
      },
      "source": [
        "Foreign-Worker"
      ]
    },
    {
      "cell_type": "code",
      "metadata": {
        "colab": {
          "base_uri": "https://localhost:8080/"
        },
        "id": "ILSacWXVGhbM",
        "outputId": "353f5b01-5e5f-4454-f2e8-4861f1c77500"
      },
      "source": [
        "plotting_chart(train_data, 'Foreign-Worker')"
      ],
      "execution_count": null,
      "outputs": [
        {
          "output_type": "display_data",
          "data": {
            "image/png": "[encoded data removed]",
            "text/plain": [
              "<Figure size 864x576 with 2 Axes>"
            ]
          },
          "metadata": {}
        }
      ]
    },
    {
      "cell_type": "markdown",
      "metadata": {
        "id": "b7u30VP5-0mb"
      },
      "source": [
        "- This feature would be dropped since majority of the records belong to one outcome. ie low variability\n"
      ]
    },
    {
      "cell_type": "markdown",
      "metadata": {
        "id": "wn5Ws1-nH9Q4"
      },
      "source": [
        "Correlation between numerical variables\n"
      ]
    },
    {
      "cell_type": "code",
      "metadata": {
        "colab": {
          "base_uri": "https://localhost:8080/"
        },
        "id": "tKKgfi6bGhW4",
        "outputId": "d745520f-a486-48a0-8660-e1e917b4c0fa"
      },
      "source": [
        "## Plot fig size. \n",
        "style.use('fivethirtyeight')\n",
        "#sns.set_style('whitegrid')\n",
        "plt.subplots(figsize = (12,8))\n",
        "\n",
        "# Generate a mask for the upper triangle.\n",
        "mask = np.zeros_like(train_data.corr(), dtype=np.bool)\n",
        "mask[np.triu_indices_from(mask)] = True\n",
        "\n",
        "\n",
        "sns.heatmap(train_data.corr(), \n",
        "            cmap=sns.diverging_palette(20, 220, n=200), \n",
        "            mask = mask, \n",
        "            annot=True, \n",
        "            center = 0, \n",
        "           );\n",
        "## title. \n",
        "plt.title(\"Heatmap of all the Numerical Features\", fontsize = 30);"
      ],
      "execution_count": null,
      "outputs": [
        {
          "output_type": "display_data",
          "data": {
            "image/png": "[encoded data removed]",
            "text/plain": [
              "<Figure size 864x576 with 2 Axes>"
            ]
          },
          "metadata": {}
        }
      ]
    },
    {
      "cell_type": "markdown",
      "metadata": {
        "id": "JBR2XeurJ5DQ"
      },
      "source": [
        "There appears to be no significant correlation amongst the variables."
      ]
    },
    {
      "cell_type": "markdown",
      "metadata": {
        "id": "skf6RLLi33nW"
      },
      "source": [
        "## Data Preprocessing \n",
        "The quality of the data should be checked before applying machine learning algorithms.\n",
        "\n"
      ]
    },
    {
      "cell_type": "markdown",
      "metadata": {
        "id": "0JRKyB5X57IK"
      },
      "source": [
        "#### Data Quality Assessment \n",
        "Mismatched data types\n",
        "- Telephone should not have an int data type. (this feature would be dropped since theres no understanding what data type it belongs to)\n",
        "- Type of apartments is categorical so, it should have been an object \n",
        "\n",
        "Data outliers\n",
        "- Age-years, duration-of-credit-month, credit-amount contained outliers\n",
        "\n",
        "Missing data\n",
        "- Concurrent-Credits, Age-years had missing records"
      ]
    },
    {
      "cell_type": "markdown",
      "metadata": {
        "id": "bKF_jjyJ7D6z"
      },
      "source": [
        "#### Data Cleaning\n",
        "Removing incorrect data, incomplete data and inaccurate data from the datasets, and also replace the missing values. "
      ]
    },
    {
      "cell_type": "markdown",
      "metadata": {
        "id": "JBrnm7tJX4Od"
      },
      "source": [
        "**Making sure the purpose feature is the same for both train and test**"
      ]
    },
    {
      "cell_type": "code",
      "metadata": {
        "id": "EXw_Rt0YXvE0"
      },
      "source": [
        "train_data['Purpose'].replace({'Used car':'Other','New car':'Other'},inplace=True)"
      ],
      "execution_count": null,
      "outputs": []
    },
    {
      "cell_type": "code",
      "metadata": {
        "id": "x4IiLKOVYGA5"
      },
      "source": [
        "test_data['Purpose'].replace({'Used car':'Other','New car':'Other'},inplace=True)"
      ],
      "execution_count": null,
      "outputs": []
    },
    {
      "cell_type": "markdown",
      "metadata": {
        "id": "tJSIBvRycGfc"
      },
      "source": [
        "**Dropping Irrelevant Features**"
      ]
    },
    {
      "cell_type": "code",
      "metadata": {
        "id": "OW7lCSup83oQ"
      },
      "source": [
        "df = train_data.drop(columns=['Occupation', 'Telephone','Concurrent-Credits',\\\n",
        "                        'Duration-in-Current-address','Guarantors',\\\n",
        "                       'No-of-dependents','Foreign-Worker','Type-of-apartment'], axis=1)"
      ],
      "execution_count": null,
      "outputs": []
    },
    {
      "cell_type": "code",
      "metadata": {
        "id": "QCVyfAb11zch"
      },
      "source": [
        "df1 = test_data.drop(columns=['Occupation', 'Telephone','Concurrent-Credits',\\\n",
        "                        'Duration-in-Current-address','Guarantors',\\\n",
        "                       'No-of-dependents','Foreign-Worker','Type-of-apartment'], axis=1)"
      ],
      "execution_count": null,
      "outputs": []
    },
    {
      "cell_type": "markdown",
      "metadata": {
        "id": "wnJi5IUXBDGe"
      },
      "source": [
        "#### Handling categorical data and declaring Predictors and target variable"
      ]
    },
    {
      "cell_type": "markdown",
      "metadata": {
        "id": "fDXNhMrr2Oq1"
      },
      "source": [
        "**Train data**"
      ]
    },
    {
      "cell_type": "code",
      "metadata": {
        "id": "0z48Gk41EKZy"
      },
      "source": [
        "# Dropping the target column from the dataset first\n",
        "df = df.drop(['Credit-Application-Result'], axis=1)\n",
        "\n",
        "# Empting list to store columns with categorical data\n",
        "categorical = []\n",
        "for col, value in df.iteritems():\n",
        "    if value.dtype == 'object':\n",
        "        categorical.append(col)\n",
        "\n",
        "# Storing the numerical columns in a list numerical\n",
        "num_variables = df.columns.difference(categorical)"
      ],
      "execution_count": null,
      "outputs": []
    },
    {
      "cell_type": "code",
      "metadata": {
        "colab": {
          "base_uri": "https://localhost:8080/",
          "height": 296
        },
        "id": "kBNJh-EoEKWJ",
        "outputId": "0a18d9c1-bb36-4d6e-da62-a01f49058f41"
      },
      "source": [
        "# Storing the categorical data in a dataframe\n",
        "df_cat = df[categorical]\n",
        "# creating dummy values\n",
        "df_cat = pd.get_dummies(df_cat,drop_first=True)\n",
        "df_cat.head()"
      ],
      "execution_count": null,
      "outputs": [
        {
          "output_type": "execute_result",
          "data": {
            "text/html": [
              "<div>\n",
              "<style scoped>\n",
              "    .dataframe tbody tr th:only-of-type {\n",
              "        vertical-align: middle;\n",
              "    }\n",
              "\n",
              "    .dataframe tbody tr th {\n",
              "        vertical-align: top;\n",
              "    }\n",
              "\n",
              "    .dataframe thead th {\n",
              "        text-align: right;\n",
              "    }\n",
              "</style>\n",
              "<table border=\"1\" class=\"dataframe\">\n",
              "  <thead>\n",
              "    <tr style=\"text-align: right;\">\n",
              "      <th></th>\n",
              "      <th>Account-Balance_Some Balance</th>\n",
              "      <th>Payment-Status-of-Previous-Credit_Paid Up</th>\n",
              "      <th>Payment-Status-of-Previous-Credit_Some Problems</th>\n",
              "      <th>Purpose_Other</th>\n",
              "      <th>Value-Savings-Stocks_None</th>\n",
              "      <th>Value-Savings-Stocks_£100-£1000</th>\n",
              "      <th>Length-of-current-employment_4-7 yrs</th>\n",
              "      <th>Length-of-current-employment_&lt; 1yr</th>\n",
              "      <th>No-of-Credits-at-this-Bank_More than 1</th>\n",
              "    </tr>\n",
              "  </thead>\n",
              "  <tbody>\n",
              "    <tr>\n",
              "      <th>0</th>\n",
              "      <td>1</td>\n",
              "      <td>1</td>\n",
              "      <td>0</td>\n",
              "      <td>1</td>\n",
              "      <td>0</td>\n",
              "      <td>1</td>\n",
              "      <td>0</td>\n",
              "      <td>1</td>\n",
              "      <td>0</td>\n",
              "    </tr>\n",
              "    <tr>\n",
              "      <th>1</th>\n",
              "      <td>1</td>\n",
              "      <td>1</td>\n",
              "      <td>0</td>\n",
              "      <td>0</td>\n",
              "      <td>0</td>\n",
              "      <td>1</td>\n",
              "      <td>0</td>\n",
              "      <td>1</td>\n",
              "      <td>0</td>\n",
              "    </tr>\n",
              "    <tr>\n",
              "      <th>2</th>\n",
              "      <td>1</td>\n",
              "      <td>0</td>\n",
              "      <td>0</td>\n",
              "      <td>0</td>\n",
              "      <td>1</td>\n",
              "      <td>0</td>\n",
              "      <td>0</td>\n",
              "      <td>0</td>\n",
              "      <td>1</td>\n",
              "    </tr>\n",
              "    <tr>\n",
              "      <th>3</th>\n",
              "      <td>1</td>\n",
              "      <td>0</td>\n",
              "      <td>0</td>\n",
              "      <td>0</td>\n",
              "      <td>1</td>\n",
              "      <td>0</td>\n",
              "      <td>0</td>\n",
              "      <td>0</td>\n",
              "      <td>0</td>\n",
              "    </tr>\n",
              "    <tr>\n",
              "      <th>4</th>\n",
              "      <td>0</td>\n",
              "      <td>1</td>\n",
              "      <td>0</td>\n",
              "      <td>0</td>\n",
              "      <td>1</td>\n",
              "      <td>0</td>\n",
              "      <td>0</td>\n",
              "      <td>1</td>\n",
              "      <td>0</td>\n",
              "    </tr>\n",
              "  </tbody>\n",
              "</table>\n",
              "</div>"
            ],
            "text/plain": [
              "   Account-Balance_Some Balance  ...  No-of-Credits-at-this-Bank_More than 1\n",
              "0                             1  ...                                       0\n",
              "1                             1  ...                                       0\n",
              "2                             1  ...                                       1\n",
              "3                             1  ...                                       0\n",
              "4                             0  ...                                       0\n",
              "\n",
              "[5 rows x 9 columns]"
            ]
          },
          "metadata": {},
          "execution_count": 38
        }
      ]
    },
    {
      "cell_type": "code",
      "metadata": {
        "id": "8AvLSFNEEKSf"
      },
      "source": [
        "# Storing the numerical features to a dataframe.\n",
        "df_num = df[num_variables]\n",
        "# combining the two dataframes\n",
        "X = pd.concat([df_num, df_cat], axis=1)"
      ],
      "execution_count": null,
      "outputs": []
    },
    {
      "cell_type": "code",
      "metadata": {
        "colab": {
          "base_uri": "https://localhost:8080/",
          "height": 296
        },
        "id": "0YRG7eGoP-e9",
        "outputId": "c30008d6-b6b1-4e62-db2d-15ae9d2953ba"
      },
      "source": [
        "X.head()"
      ],
      "execution_count": null,
      "outputs": [
        {
          "output_type": "execute_result",
          "data": {
            "text/html": [
              "<div>\n",
              "<style scoped>\n",
              "    .dataframe tbody tr th:only-of-type {\n",
              "        vertical-align: middle;\n",
              "    }\n",
              "\n",
              "    .dataframe tbody tr th {\n",
              "        vertical-align: top;\n",
              "    }\n",
              "\n",
              "    .dataframe thead th {\n",
              "        text-align: right;\n",
              "    }\n",
              "</style>\n",
              "<table border=\"1\" class=\"dataframe\">\n",
              "  <thead>\n",
              "    <tr style=\"text-align: right;\">\n",
              "      <th></th>\n",
              "      <th>Age-years</th>\n",
              "      <th>Credit-Amount</th>\n",
              "      <th>Duration-of-Credit-Month</th>\n",
              "      <th>Instalment-per-cent</th>\n",
              "      <th>Most-valuable-available-asset</th>\n",
              "      <th>Account-Balance_Some Balance</th>\n",
              "      <th>Payment-Status-of-Previous-Credit_Paid Up</th>\n",
              "      <th>Payment-Status-of-Previous-Credit_Some Problems</th>\n",
              "      <th>Purpose_Other</th>\n",
              "      <th>Value-Savings-Stocks_None</th>\n",
              "      <th>Value-Savings-Stocks_£100-£1000</th>\n",
              "      <th>Length-of-current-employment_4-7 yrs</th>\n",
              "      <th>Length-of-current-employment_&lt; 1yr</th>\n",
              "      <th>No-of-Credits-at-this-Bank_More than 1</th>\n",
              "    </tr>\n",
              "  </thead>\n",
              "  <tbody>\n",
              "    <tr>\n",
              "      <th>0</th>\n",
              "      <td>NaN</td>\n",
              "      <td>1494</td>\n",
              "      <td>4</td>\n",
              "      <td>1</td>\n",
              "      <td>1</td>\n",
              "      <td>1</td>\n",
              "      <td>1</td>\n",
              "      <td>0</td>\n",
              "      <td>1</td>\n",
              "      <td>0</td>\n",
              "      <td>1</td>\n",
              "      <td>0</td>\n",
              "      <td>1</td>\n",
              "      <td>0</td>\n",
              "    </tr>\n",
              "    <tr>\n",
              "      <th>1</th>\n",
              "      <td>29.0</td>\n",
              "      <td>1494</td>\n",
              "      <td>4</td>\n",
              "      <td>1</td>\n",
              "      <td>1</td>\n",
              "      <td>1</td>\n",
              "      <td>1</td>\n",
              "      <td>0</td>\n",
              "      <td>0</td>\n",
              "      <td>0</td>\n",
              "      <td>1</td>\n",
              "      <td>0</td>\n",
              "      <td>1</td>\n",
              "      <td>0</td>\n",
              "    </tr>\n",
              "    <tr>\n",
              "      <th>2</th>\n",
              "      <td>42.0</td>\n",
              "      <td>1544</td>\n",
              "      <td>4</td>\n",
              "      <td>2</td>\n",
              "      <td>1</td>\n",
              "      <td>1</td>\n",
              "      <td>0</td>\n",
              "      <td>0</td>\n",
              "      <td>0</td>\n",
              "      <td>1</td>\n",
              "      <td>0</td>\n",
              "      <td>0</td>\n",
              "      <td>0</td>\n",
              "      <td>1</td>\n",
              "    </tr>\n",
              "    <tr>\n",
              "      <th>3</th>\n",
              "      <td>37.0</td>\n",
              "      <td>3380</td>\n",
              "      <td>4</td>\n",
              "      <td>1</td>\n",
              "      <td>1</td>\n",
              "      <td>1</td>\n",
              "      <td>0</td>\n",
              "      <td>0</td>\n",
              "      <td>0</td>\n",
              "      <td>1</td>\n",
              "      <td>0</td>\n",
              "      <td>0</td>\n",
              "      <td>0</td>\n",
              "      <td>0</td>\n",
              "    </tr>\n",
              "    <tr>\n",
              "      <th>4</th>\n",
              "      <td>27.0</td>\n",
              "      <td>343</td>\n",
              "      <td>6</td>\n",
              "      <td>4</td>\n",
              "      <td>1</td>\n",
              "      <td>0</td>\n",
              "      <td>1</td>\n",
              "      <td>0</td>\n",
              "      <td>0</td>\n",
              "      <td>1</td>\n",
              "      <td>0</td>\n",
              "      <td>0</td>\n",
              "      <td>1</td>\n",
              "      <td>0</td>\n",
              "    </tr>\n",
              "  </tbody>\n",
              "</table>\n",
              "</div>"
            ],
            "text/plain": [
              "   Age-years  ...  No-of-Credits-at-this-Bank_More than 1\n",
              "0        NaN  ...                                       0\n",
              "1       29.0  ...                                       0\n",
              "2       42.0  ...                                       1\n",
              "3       37.0  ...                                       0\n",
              "4       27.0  ...                                       0\n",
              "\n",
              "[5 rows x 14 columns]"
            ]
          },
          "metadata": {},
          "execution_count": 40
        }
      ]
    },
    {
      "cell_type": "code",
      "metadata": {
        "colab": {
          "base_uri": "https://localhost:8080/"
        },
        "id": "RtQDtHXxJ0mJ",
        "outputId": "30cc7a9b-d862-43f9-9fcf-715816668214"
      },
      "source": [
        "# Defining a dictionary for the target class\n",
        "target_class = {'Creditworthy':1, 'Non-Creditworthy':0}\n",
        "# Using the pandas apply method to numerically encode target variable\n",
        "y = train_data['Credit-Application-Result'].apply(lambda x: target_class[x])\n",
        "y.head()"
      ],
      "execution_count": null,
      "outputs": [
        {
          "output_type": "execute_result",
          "data": {
            "text/plain": [
              "0    1\n",
              "1    1\n",
              "2    1\n",
              "3    1\n",
              "4    1\n",
              "Name: Credit-Application-Result, dtype: int64"
            ]
          },
          "metadata": {},
          "execution_count": 41
        }
      ]
    },
    {
      "cell_type": "markdown",
      "metadata": {
        "id": "9aQvRD4l2XBl"
      },
      "source": [
        "**Test data**"
      ]
    },
    {
      "cell_type": "code",
      "metadata": {
        "id": "BKT1DHzM2WvJ"
      },
      "source": [
        "# Empting list to store columns with categorical data\n",
        "cate = []\n",
        "for col, value in df1.iteritems():\n",
        "    if value.dtype == 'object':\n",
        "        cate.append(col)\n",
        "\n",
        "# Storing the numerical columns in a list numerical\n",
        "num_vars = df1.columns.difference(cate)"
      ],
      "execution_count": null,
      "outputs": []
    },
    {
      "cell_type": "code",
      "metadata": {
        "colab": {
          "base_uri": "https://localhost:8080/",
          "height": 296
        },
        "id": "U_PtC4432WrK",
        "outputId": "f9620bb1-2d5b-4c7d-8392-3fe234c86a28"
      },
      "source": [
        "# Storing the categorical data in a dataframe\n",
        "df1_cat = df1[cate]\n",
        "# creating dummy values\n",
        "df1_cat = pd.get_dummies(df1_cat,drop_first=True)\n",
        "df1_cat.head()"
      ],
      "execution_count": null,
      "outputs": [
        {
          "output_type": "execute_result",
          "data": {
            "text/html": [
              "<div>\n",
              "<style scoped>\n",
              "    .dataframe tbody tr th:only-of-type {\n",
              "        vertical-align: middle;\n",
              "    }\n",
              "\n",
              "    .dataframe tbody tr th {\n",
              "        vertical-align: top;\n",
              "    }\n",
              "\n",
              "    .dataframe thead th {\n",
              "        text-align: right;\n",
              "    }\n",
              "</style>\n",
              "<table border=\"1\" class=\"dataframe\">\n",
              "  <thead>\n",
              "    <tr style=\"text-align: right;\">\n",
              "      <th></th>\n",
              "      <th>Account-Balance_Some Balance</th>\n",
              "      <th>Payment-Status-of-Previous-Credit_Paid Up</th>\n",
              "      <th>Payment-Status-of-Previous-Credit_Some Problems</th>\n",
              "      <th>Purpose_Other</th>\n",
              "      <th>Value-Savings-Stocks_None</th>\n",
              "      <th>Value-Savings-Stocks_£100-£1000</th>\n",
              "      <th>Length-of-current-employment_4-7 yrs</th>\n",
              "      <th>Length-of-current-employment_&lt; 1yr</th>\n",
              "      <th>No-of-Credits-at-this-Bank_More than 1</th>\n",
              "    </tr>\n",
              "  </thead>\n",
              "  <tbody>\n",
              "    <tr>\n",
              "      <th>0</th>\n",
              "      <td>0</td>\n",
              "      <td>0</td>\n",
              "      <td>0</td>\n",
              "      <td>0</td>\n",
              "      <td>1</td>\n",
              "      <td>0</td>\n",
              "      <td>0</td>\n",
              "      <td>1</td>\n",
              "      <td>1</td>\n",
              "    </tr>\n",
              "    <tr>\n",
              "      <th>1</th>\n",
              "      <td>0</td>\n",
              "      <td>0</td>\n",
              "      <td>0</td>\n",
              "      <td>0</td>\n",
              "      <td>1</td>\n",
              "      <td>0</td>\n",
              "      <td>0</td>\n",
              "      <td>1</td>\n",
              "      <td>1</td>\n",
              "    </tr>\n",
              "    <tr>\n",
              "      <th>2</th>\n",
              "      <td>0</td>\n",
              "      <td>1</td>\n",
              "      <td>0</td>\n",
              "      <td>0</td>\n",
              "      <td>0</td>\n",
              "      <td>1</td>\n",
              "      <td>0</td>\n",
              "      <td>1</td>\n",
              "      <td>0</td>\n",
              "    </tr>\n",
              "    <tr>\n",
              "      <th>3</th>\n",
              "      <td>0</td>\n",
              "      <td>0</td>\n",
              "      <td>0</td>\n",
              "      <td>0</td>\n",
              "      <td>1</td>\n",
              "      <td>0</td>\n",
              "      <td>0</td>\n",
              "      <td>1</td>\n",
              "      <td>1</td>\n",
              "    </tr>\n",
              "    <tr>\n",
              "      <th>4</th>\n",
              "      <td>0</td>\n",
              "      <td>0</td>\n",
              "      <td>0</td>\n",
              "      <td>0</td>\n",
              "      <td>1</td>\n",
              "      <td>0</td>\n",
              "      <td>0</td>\n",
              "      <td>0</td>\n",
              "      <td>0</td>\n",
              "    </tr>\n",
              "  </tbody>\n",
              "</table>\n",
              "</div>"
            ],
            "text/plain": [
              "   Account-Balance_Some Balance  ...  No-of-Credits-at-this-Bank_More than 1\n",
              "0                             0  ...                                       1\n",
              "1                             0  ...                                       1\n",
              "2                             0  ...                                       0\n",
              "3                             0  ...                                       1\n",
              "4                             0  ...                                       0\n",
              "\n",
              "[5 rows x 9 columns]"
            ]
          },
          "metadata": {},
          "execution_count": 43
        }
      ]
    },
    {
      "cell_type": "code",
      "metadata": {
        "id": "8-yV2NFzRxHH"
      },
      "source": [
        "# Storing the numerical features to a dataframe.\n",
        "df1_num = df1[num_vars]\n",
        "# combining the two dataframes\n",
        "XT = pd.concat([df1_num, df1_cat], axis=1)"
      ],
      "execution_count": null,
      "outputs": []
    },
    {
      "cell_type": "code",
      "metadata": {
        "colab": {
          "base_uri": "https://localhost:8080/",
          "height": 296
        },
        "id": "wi9ItEhhax-d",
        "outputId": "36efd538-ba41-4f8e-a5e2-a01a1d47bac0"
      },
      "source": [
        "XT.head()"
      ],
      "execution_count": null,
      "outputs": [
        {
          "output_type": "execute_result",
          "data": {
            "text/html": [
              "<div>\n",
              "<style scoped>\n",
              "    .dataframe tbody tr th:only-of-type {\n",
              "        vertical-align: middle;\n",
              "    }\n",
              "\n",
              "    .dataframe tbody tr th {\n",
              "        vertical-align: top;\n",
              "    }\n",
              "\n",
              "    .dataframe thead th {\n",
              "        text-align: right;\n",
              "    }\n",
              "</style>\n",
              "<table border=\"1\" class=\"dataframe\">\n",
              "  <thead>\n",
              "    <tr style=\"text-align: right;\">\n",
              "      <th></th>\n",
              "      <th>Age-years</th>\n",
              "      <th>Credit-Amount</th>\n",
              "      <th>Duration-of-Credit-Month</th>\n",
              "      <th>Instalment-per-cent</th>\n",
              "      <th>Most-valuable-available-asset</th>\n",
              "      <th>Account-Balance_Some Balance</th>\n",
              "      <th>Payment-Status-of-Previous-Credit_Paid Up</th>\n",
              "      <th>Payment-Status-of-Previous-Credit_Some Problems</th>\n",
              "      <th>Purpose_Other</th>\n",
              "      <th>Value-Savings-Stocks_None</th>\n",
              "      <th>Value-Savings-Stocks_£100-£1000</th>\n",
              "      <th>Length-of-current-employment_4-7 yrs</th>\n",
              "      <th>Length-of-current-employment_&lt; 1yr</th>\n",
              "      <th>No-of-Credits-at-this-Bank_More than 1</th>\n",
              "    </tr>\n",
              "  </thead>\n",
              "  <tbody>\n",
              "    <tr>\n",
              "      <th>0</th>\n",
              "      <td>36</td>\n",
              "      <td>2799</td>\n",
              "      <td>9</td>\n",
              "      <td>2</td>\n",
              "      <td>1</td>\n",
              "      <td>0</td>\n",
              "      <td>0</td>\n",
              "      <td>0</td>\n",
              "      <td>0</td>\n",
              "      <td>1</td>\n",
              "      <td>0</td>\n",
              "      <td>0</td>\n",
              "      <td>1</td>\n",
              "      <td>1</td>\n",
              "    </tr>\n",
              "    <tr>\n",
              "      <th>1</th>\n",
              "      <td>39</td>\n",
              "      <td>2122</td>\n",
              "      <td>12</td>\n",
              "      <td>3</td>\n",
              "      <td>1</td>\n",
              "      <td>0</td>\n",
              "      <td>0</td>\n",
              "      <td>0</td>\n",
              "      <td>0</td>\n",
              "      <td>1</td>\n",
              "      <td>0</td>\n",
              "      <td>0</td>\n",
              "      <td>1</td>\n",
              "      <td>1</td>\n",
              "    </tr>\n",
              "    <tr>\n",
              "      <th>2</th>\n",
              "      <td>23</td>\n",
              "      <td>3758</td>\n",
              "      <td>24</td>\n",
              "      <td>1</td>\n",
              "      <td>4</td>\n",
              "      <td>0</td>\n",
              "      <td>1</td>\n",
              "      <td>0</td>\n",
              "      <td>0</td>\n",
              "      <td>0</td>\n",
              "      <td>1</td>\n",
              "      <td>0</td>\n",
              "      <td>1</td>\n",
              "      <td>0</td>\n",
              "    </tr>\n",
              "    <tr>\n",
              "      <th>3</th>\n",
              "      <td>36</td>\n",
              "      <td>3905</td>\n",
              "      <td>11</td>\n",
              "      <td>2</td>\n",
              "      <td>1</td>\n",
              "      <td>0</td>\n",
              "      <td>0</td>\n",
              "      <td>0</td>\n",
              "      <td>0</td>\n",
              "      <td>1</td>\n",
              "      <td>0</td>\n",
              "      <td>0</td>\n",
              "      <td>1</td>\n",
              "      <td>1</td>\n",
              "    </tr>\n",
              "    <tr>\n",
              "      <th>4</th>\n",
              "      <td>31</td>\n",
              "      <td>1957</td>\n",
              "      <td>6</td>\n",
              "      <td>1</td>\n",
              "      <td>3</td>\n",
              "      <td>0</td>\n",
              "      <td>0</td>\n",
              "      <td>0</td>\n",
              "      <td>0</td>\n",
              "      <td>1</td>\n",
              "      <td>0</td>\n",
              "      <td>0</td>\n",
              "      <td>0</td>\n",
              "      <td>0</td>\n",
              "    </tr>\n",
              "  </tbody>\n",
              "</table>\n",
              "</div>"
            ],
            "text/plain": [
              "   Age-years  ...  No-of-Credits-at-this-Bank_More than 1\n",
              "0         36  ...                                       1\n",
              "1         39  ...                                       1\n",
              "2         23  ...                                       0\n",
              "3         36  ...                                       1\n",
              "4         31  ...                                       0\n",
              "\n",
              "[5 rows x 14 columns]"
            ]
          },
          "metadata": {},
          "execution_count": 45
        }
      ]
    },
    {
      "cell_type": "markdown",
      "metadata": {
        "id": "hB995fwlODPc"
      },
      "source": [
        "#### Splitting data into train and test set"
      ]
    },
    {
      "cell_type": "code",
      "metadata": {
        "colab": {
          "base_uri": "https://localhost:8080/"
        },
        "id": "xQB_ivJBOA8T",
        "outputId": "ce875307-c2f7-4908-e825-fddcd91defbd"
      },
      "source": [
        "X_train, X_test, y_train, y_test = train_test_split(X, y, test_size =0.30, stratify=y,random_state=42)\n",
        "print(X_train.shape, y_train.shape)\n",
        "print(X_test.shape, y_test.shape)"
      ],
      "execution_count": null,
      "outputs": [
        {
          "output_type": "stream",
          "name": "stdout",
          "text": [
            "(350, 14) (350,)\n",
            "(150, 14) (150,)\n"
          ]
        }
      ]
    },
    {
      "cell_type": "markdown",
      "metadata": {
        "id": "7eg0m7ZUWKHX"
      },
      "source": [
        "**Handling missing data**"
      ]
    },
    {
      "cell_type": "code",
      "metadata": {
        "id": "2Vsnah1gWJd_"
      },
      "source": [
        "for df2 in [X_train, X_test]:\n",
        "    df2['Age-years'].fillna(X_train['Age-years'].median(), inplace=True)"
      ],
      "execution_count": null,
      "outputs": []
    },
    {
      "cell_type": "code",
      "metadata": {
        "colab": {
          "base_uri": "https://localhost:8080/"
        },
        "id": "9peLb1MBWe8d",
        "outputId": "cd7b0210-a1e7-4aa4-c6bf-10ce29a1f251"
      },
      "source": [
        "X_train.isnull().sum()\n"
      ],
      "execution_count": null,
      "outputs": [
        {
          "output_type": "execute_result",
          "data": {
            "text/plain": [
              "Age-years                                          0\n",
              "Credit-Amount                                      0\n",
              "Duration-of-Credit-Month                           0\n",
              "Instalment-per-cent                                0\n",
              "Most-valuable-available-asset                      0\n",
              "Account-Balance_Some Balance                       0\n",
              "Payment-Status-of-Previous-Credit_Paid Up          0\n",
              "Payment-Status-of-Previous-Credit_Some Problems    0\n",
              "Purpose_Other                                      0\n",
              "Value-Savings-Stocks_None                          0\n",
              "Value-Savings-Stocks_£100-£1000                    0\n",
              "Length-of-current-employment_4-7 yrs               0\n",
              "Length-of-current-employment_< 1yr                 0\n",
              "No-of-Credits-at-this-Bank_More than 1             0\n",
              "dtype: int64"
            ]
          },
          "metadata": {},
          "execution_count": 48
        }
      ]
    },
    {
      "cell_type": "code",
      "metadata": {
        "colab": {
          "base_uri": "https://localhost:8080/"
        },
        "id": "xIRwNSJBWlqY",
        "outputId": "61e001dd-e690-4529-d5e8-476af47704a9"
      },
      "source": [
        "X_test.isnull().sum()"
      ],
      "execution_count": null,
      "outputs": [
        {
          "output_type": "execute_result",
          "data": {
            "text/plain": [
              "Age-years                                          0\n",
              "Credit-Amount                                      0\n",
              "Duration-of-Credit-Month                           0\n",
              "Instalment-per-cent                                0\n",
              "Most-valuable-available-asset                      0\n",
              "Account-Balance_Some Balance                       0\n",
              "Payment-Status-of-Previous-Credit_Paid Up          0\n",
              "Payment-Status-of-Previous-Credit_Some Problems    0\n",
              "Purpose_Other                                      0\n",
              "Value-Savings-Stocks_None                          0\n",
              "Value-Savings-Stocks_£100-£1000                    0\n",
              "Length-of-current-employment_4-7 yrs               0\n",
              "Length-of-current-employment_< 1yr                 0\n",
              "No-of-Credits-at-this-Bank_More than 1             0\n",
              "dtype: int64"
            ]
          },
          "metadata": {},
          "execution_count": 49
        }
      ]
    },
    {
      "cell_type": "markdown",
      "metadata": {
        "id": "BylAsz2aSAQH"
      },
      "source": [
        "#### Normalization\n",
        "\n",
        "scaling the data so that it can be represented in a smaller range. This way, every feature is represented fairly."
      ]
    },
    {
      "cell_type": "markdown",
      "metadata": {
        "id": "Upm2mHV-3cyn"
      },
      "source": [
        "**Train data**"
      ]
    },
    {
      "cell_type": "code",
      "metadata": {
        "id": "XOrohejnR-4v"
      },
      "source": [
        "scale = StandardScaler()\n",
        "X_train = scale.fit_transform(X_train)\n",
        "X_test = scale.transform(X_test)"
      ],
      "execution_count": null,
      "outputs": []
    },
    {
      "cell_type": "markdown",
      "metadata": {
        "id": "4kwCcste3fqM"
      },
      "source": [
        "**Test data**\n",
        "\n",
        "\n"
      ]
    },
    {
      "cell_type": "code",
      "metadata": {
        "id": "FysDaD-I3nO-"
      },
      "source": [
        "XT = scale.transform(XT)"
      ],
      "execution_count": null,
      "outputs": []
    },
    {
      "cell_type": "markdown",
      "metadata": {
        "id": "D0kTXkp-7IVp"
      },
      "source": [
        "## Model training"
      ]
    },
    {
      "cell_type": "code",
      "metadata": {
        "id": "f_oVD5_gc6qZ"
      },
      "source": [
        "model = list()\n",
        "precision = list()\n",
        "recall = list()\n",
        "f1score = list()\n",
        "roc_auc = list()\n",
        "model_type = list()\n",
        "def test_eval(clf_model, X_test, y_test, algo=None,model_types=None):\n",
        "    \"\"\"\n",
        "    This function calculates the evaluation metrics  of each trained model\n",
        "    \n",
        "    INPUT:\n",
        "    clf_model : classification model\n",
        "    X_test : array,the test data (predictors)\n",
        "    y_test : array, the  test data (target)\n",
        "    algo :   string, algorithm name\n",
        "    model_types : string, this includes but is not limited to the changes done to the model.\n",
        "    \"\"\"\n",
        "    # Test set prediction\n",
        "    y_prob=clf_model.predict_proba(X_test)\n",
        "    y_pred=clf_model.predict(X_test)\n",
        "\n",
        "    print('Confusion Matrix')\n",
        "    print('='*60)\n",
        "    print(confusion_matrix(y_test,y_pred,labels=[1,0]),\"\\n\")\n",
        "    print('Classification Report')\n",
        "    print('='*60)\n",
        "    print(classification_report(y_test,y_pred),\"\\n\")\n",
        "    print('ROC_AUC')\n",
        "    print('='*60)\n",
        "    print(roc_auc_score(y_test, y_prob[:,1]))\n",
        "          \n",
        "    model.append(algo)\n",
        "    precision.append(precision_score(y_test,y_pred))\n",
        "    recall.append(recall_score(y_test,y_pred))\n",
        "    f1score.append(f1_score(y_test,y_pred))\n",
        "    roc_auc.append(roc_auc_score(y_test, y_prob[:,1]))\n",
        "    model_type.append(model_types)"
      ],
      "execution_count": null,
      "outputs": []
    },
    {
      "cell_type": "markdown",
      "metadata": {
        "id": "svQfC1kjeLPi"
      },
      "source": [
        "#### Model-1: Logistic Regression\n"
      ]
    },
    {
      "cell_type": "markdown",
      "metadata": {
        "id": "_sOmsxFulJBh"
      },
      "source": [
        "**Base model(Inbalance class and untuned model)**"
      ]
    },
    {
      "cell_type": "code",
      "metadata": {
        "colab": {
          "base_uri": "https://localhost:8080/"
        },
        "id": "9afGkHahlIyI",
        "outputId": "b5e75279-de8f-401a-dd06-e73a94b3ddaf"
      },
      "source": [
        "# instantiate logreg\n",
        "logreg = LogisticRegression(random_state=42)\n",
        "\n",
        "lr = LogisticRegression().fit(X_train, y_train)\n",
        "print('Train score :',lr.score(X_train,y_train))"
      ],
      "execution_count": null,
      "outputs": [
        {
          "output_type": "stream",
          "name": "stdout",
          "text": [
            "Train score : 0.8114285714285714\n"
          ]
        }
      ]
    },
    {
      "cell_type": "code",
      "metadata": {
        "colab": {
          "base_uri": "https://localhost:8080/"
        },
        "id": "RZ76Q5BmlIvU",
        "outputId": "81ce4667-e882-4648-f9ea-1cc17221369e"
      },
      "source": [
        "# model evaluation\n",
        "test_eval(lr, X_test, y_test, 'Logistic Regression','base')"
      ],
      "execution_count": null,
      "outputs": [
        {
          "output_type": "stream",
          "name": "stdout",
          "text": [
            "Confusion Matrix\n",
            "============================================================\n",
            "[[97 10]\n",
            " [24 19]] \n",
            "\n",
            "Classification Report\n",
            "============================================================\n",
            "              precision    recall  f1-score   support\n",
            "\n",
            "           0       0.66      0.44      0.53        43\n",
            "           1       0.80      0.91      0.85       107\n",
            "\n",
            "    accuracy                           0.77       150\n",
            "   macro avg       0.73      0.67      0.69       150\n",
            "weighted avg       0.76      0.77      0.76       150\n",
            " \n",
            "\n",
            "ROC_AUC\n",
            "============================================================\n",
            "0.7509237122364703\n"
          ]
        }
      ]
    },
    {
      "cell_type": "markdown",
      "metadata": {
        "id": "Wp02fNczsLmm"
      },
      "source": [
        "Base model is overfitting"
      ]
    },
    {
      "cell_type": "markdown",
      "metadata": {
        "id": "jvdcRle5pifJ"
      },
      "source": [
        "**Tuned Model**"
      ]
    },
    {
      "cell_type": "code",
      "metadata": {
        "colab": {
          "base_uri": "https://localhost:8080/"
        },
        "id": "7tWL94d1LPIn",
        "outputId": "335a5b4a-8774-48c0-a3d9-bb2ae462e475"
      },
      "source": [
        "# instantiate logreg\n",
        "logreg = LogisticRegression(random_state=42)\n",
        "\n",
        "#define grid\n",
        "param_grid_lr=[{'solver':['saga'],'C':[0.1,1,10,100],'penalty':['elasticnet','l1','l2']},\n",
        "               {'solver':['lbfgs'],'C':[0.1,1,10,100],'penalty':['l2']},\n",
        "               {'solver':['newton-cg'],'C':[0.1,1,10],'penalty':['l2','l1']},\n",
        "               {'solver':['liblinear'],'C':[0.1,1,10,100],'penalty':['l1','l2']}]\n",
        "\n",
        "# validation parameters               \n",
        "cv = RepeatedStratifiedKFold(n_splits=10, n_repeats=3, random_state=1)\n",
        "\n",
        "# model training\n",
        "gs_lr =GridSearchCV(logreg,param_grid_lr,cv=cv)\n",
        "gs_lr.fit(X_train,y_train)\n",
        "test_score = gs_lr.score(X_test,y_test)\n",
        "best_lr = gs_lr.best_estimator_\n",
        "\n",
        "print(\"test score:\",test_score)\n",
        "print(\"best parameters: \",gs_lr.best_params_)\n",
        "print(\"best train score: \", gs_lr.best_score_)\n"
      ],
      "execution_count": null,
      "outputs": [
        {
          "output_type": "stream",
          "name": "stdout",
          "text": [
            "test score: 0.7733333333333333\n",
            "best parameters:  {'C': 0.1, 'penalty': 'l2', 'solver': 'liblinear'}\n",
            "best train score:  0.783809523809524\n"
          ]
        }
      ]
    },
    {
      "cell_type": "markdown",
      "metadata": {
        "id": "YkhaeG5Qexhq"
      },
      "source": [
        "Model evaluation"
      ]
    },
    {
      "cell_type": "code",
      "metadata": {
        "colab": {
          "base_uri": "https://localhost:8080/"
        },
        "id": "6NMJQStXa2NE",
        "outputId": "f631bba3-b237-4da6-866c-b6caf31f42fe"
      },
      "source": [
        "test_eval(gs_lr, X_test, y_test, 'Logistic Regression','tuned')\n"
      ],
      "execution_count": null,
      "outputs": [
        {
          "output_type": "stream",
          "name": "stdout",
          "text": [
            "Confusion Matrix\n",
            "============================================================\n",
            "[[96 11]\n",
            " [23 20]] \n",
            "\n",
            "Classification Report\n",
            "============================================================\n",
            "              precision    recall  f1-score   support\n",
            "\n",
            "           0       0.65      0.47      0.54        43\n",
            "           1       0.81      0.90      0.85       107\n",
            "\n",
            "    accuracy                           0.77       150\n",
            "   macro avg       0.73      0.68      0.70       150\n",
            "weighted avg       0.76      0.77      0.76       150\n",
            " \n",
            "\n",
            "ROC_AUC\n",
            "============================================================\n",
            "0.7589654422951532\n"
          ]
        }
      ]
    },
    {
      "cell_type": "markdown",
      "metadata": {
        "id": "VjsBRxV9ie9s"
      },
      "source": [
        "#### Model-2: Decision Tree"
      ]
    },
    {
      "cell_type": "markdown",
      "metadata": {
        "id": "qLmIt6lnlcIL"
      },
      "source": [
        "**Base Model**"
      ]
    },
    {
      "cell_type": "code",
      "metadata": {
        "colab": {
          "base_uri": "https://localhost:8080/"
        },
        "id": "WHljm612lbAU",
        "outputId": "f93e3854-004d-46c7-991b-f9681dd91ca4"
      },
      "source": [
        "# instantiate and train model\n",
        "tree = DecisionTreeClassifier(random_state=42).fit(X_train, y_train)\n",
        "print('Train score :',tree.score(X_train,y_train))"
      ],
      "execution_count": null,
      "outputs": [
        {
          "output_type": "stream",
          "name": "stdout",
          "text": [
            "Train score : 1.0\n"
          ]
        }
      ]
    },
    {
      "cell_type": "code",
      "metadata": {
        "colab": {
          "base_uri": "https://localhost:8080/"
        },
        "id": "du2N-OCKla9r",
        "outputId": "27dedece-b84c-4ff2-d07c-161c8ae3acc5"
      },
      "source": [
        "# model evaluation\n",
        "test_eval(tree, X_test, y_test, 'Decision Tree','base')\n"
      ],
      "execution_count": null,
      "outputs": [
        {
          "output_type": "stream",
          "name": "stdout",
          "text": [
            "Confusion Matrix\n",
            "============================================================\n",
            "[[75 32]\n",
            " [19 24]] \n",
            "\n",
            "Classification Report\n",
            "============================================================\n",
            "              precision    recall  f1-score   support\n",
            "\n",
            "           0       0.43      0.56      0.48        43\n",
            "           1       0.80      0.70      0.75       107\n",
            "\n",
            "    accuracy                           0.66       150\n",
            "   macro avg       0.61      0.63      0.62       150\n",
            "weighted avg       0.69      0.66      0.67       150\n",
            " \n",
            "\n",
            "ROC_AUC\n",
            "============================================================\n",
            "0.6295370571614867\n"
          ]
        }
      ]
    },
    {
      "cell_type": "markdown",
      "metadata": {
        "id": "DhSJ2A04pfyf"
      },
      "source": [
        "**Tuned Model**"
      ]
    },
    {
      "cell_type": "code",
      "metadata": {
        "colab": {
          "base_uri": "https://localhost:8080/"
        },
        "id": "I0tXxFcXhw9X",
        "outputId": "336bb229-298a-442e-cc57-0bd2420d3869"
      },
      "source": [
        "# instantiating model\n",
        "dtr = DecisionTreeClassifier(random_state=42)\n",
        "\n",
        "estimators = [2,10,30,50,100]\n",
        "# Maximum number of depth in each tree:\n",
        "max_depth = [i for i in range(5,16,2)]\n",
        "# Minimum number of samples to consider to split a node:\n",
        "min_samples_split = [2, 5, 10, 15, 20, 50, 100]\n",
        "# Minimum number of samples to consider at each leaf node:\n",
        "min_samples_leaf = [1, 2, 5]\n",
        "\n",
        "# parameters\n",
        "params = { \n",
        "    'criterion':['gini','entropy'],\n",
        "    'splitter':['best','random'],\n",
        "    'max_depth': max_depth,\n",
        "    'min_samples_split': min_samples_split,\n",
        "    'min_samples_leaf': min_samples_leaf}\n",
        "\n",
        "\n",
        "# train model\n",
        "gs_dtr = GridSearchCV(dtr, params, cv=5, n_jobs=-1, verbose=2)\n",
        "gs_dtr.fit(X_train, y_train)\n",
        "gs_dtr.best_estimator_"
      ],
      "execution_count": null,
      "outputs": [
        {
          "output_type": "stream",
          "name": "stdout",
          "text": [
            "Fitting 5 folds for each of 504 candidates, totalling 2520 fits\n"
          ]
        },
        {
          "output_type": "execute_result",
          "data": {
            "text/plain": [
              "DecisionTreeClassifier(max_depth=5, min_samples_leaf=5, min_samples_split=20,\n",
              "                       random_state=42, splitter='random')"
            ]
          },
          "metadata": {},
          "execution_count": 59
        }
      ]
    },
    {
      "cell_type": "code",
      "metadata": {
        "colab": {
          "base_uri": "https://localhost:8080/"
        },
        "id": "Ju2yKWcOuj2W",
        "outputId": "1096a3b6-89a8-4600-cea7-02b2d33da662"
      },
      "source": [
        "print(\"best train score: \", gs_dtr.best_score_)"
      ],
      "execution_count": null,
      "outputs": [
        {
          "output_type": "stream",
          "name": "stdout",
          "text": [
            "best train score:  0.76\n"
          ]
        }
      ]
    },
    {
      "cell_type": "code",
      "metadata": {
        "colab": {
          "base_uri": "https://localhost:8080/"
        },
        "id": "xPtBJHkAhw61",
        "outputId": "f4f3713a-316e-4193-f066-6fded6b84a70"
      },
      "source": [
        "# model evaluation\n",
        "test_eval(gs_dtr, X_test, y_test, 'Decision Tree','tuned')"
      ],
      "execution_count": null,
      "outputs": [
        {
          "output_type": "stream",
          "name": "stdout",
          "text": [
            "Confusion Matrix\n",
            "============================================================\n",
            "[[89 18]\n",
            " [21 22]] \n",
            "\n",
            "Classification Report\n",
            "============================================================\n",
            "              precision    recall  f1-score   support\n",
            "\n",
            "           0       0.55      0.51      0.53        43\n",
            "           1       0.81      0.83      0.82       107\n",
            "\n",
            "    accuracy                           0.74       150\n",
            "   macro avg       0.68      0.67      0.68       150\n",
            "weighted avg       0.73      0.74      0.74       150\n",
            " \n",
            "\n",
            "ROC_AUC\n",
            "============================================================\n",
            "0.7162573353618779\n"
          ]
        }
      ]
    },
    {
      "cell_type": "markdown",
      "metadata": {
        "id": "dz9Fh0kUG4Yy"
      },
      "source": [
        "#### Model-3: Random Forest"
      ]
    },
    {
      "cell_type": "markdown",
      "metadata": {
        "id": "b78HIMsniZHh"
      },
      "source": [
        "**Base model**"
      ]
    },
    {
      "cell_type": "code",
      "metadata": {
        "colab": {
          "base_uri": "https://localhost:8080/"
        },
        "id": "b4nTzRkKiYhJ",
        "outputId": "5e093537-2dbb-4fbc-9dc7-f1f3bd2c6f2e"
      },
      "source": [
        "# instantiate model\n",
        "rf_classifier=RandomForestClassifier(random_state=42).fit(X_train,y_train)\n",
        "print('Train score :',rf_classifier.score(X_train,y_train))"
      ],
      "execution_count": null,
      "outputs": [
        {
          "output_type": "stream",
          "name": "stdout",
          "text": [
            "Train score : 1.0\n"
          ]
        }
      ]
    },
    {
      "cell_type": "code",
      "metadata": {
        "colab": {
          "base_uri": "https://localhost:8080/"
        },
        "id": "IIElV-t3mt3L",
        "outputId": "2119dcf1-ebe0-47db-b086-c5cd94f357d5"
      },
      "source": [
        "# model evaluation\n",
        "test_eval(rf_classifier, X_test, y_test, 'Random Forest','base')"
      ],
      "execution_count": null,
      "outputs": [
        {
          "output_type": "stream",
          "name": "stdout",
          "text": [
            "Confusion Matrix\n",
            "============================================================\n",
            "[[99  8]\n",
            " [25 18]] \n",
            "\n",
            "Classification Report\n",
            "============================================================\n",
            "              precision    recall  f1-score   support\n",
            "\n",
            "           0       0.69      0.42      0.52        43\n",
            "           1       0.80      0.93      0.86       107\n",
            "\n",
            "    accuracy                           0.78       150\n",
            "   macro avg       0.75      0.67      0.69       150\n",
            "weighted avg       0.77      0.78      0.76       150\n",
            " \n",
            "\n",
            "ROC_AUC\n",
            "============================================================\n",
            "0.7236470332536404\n"
          ]
        }
      ]
    },
    {
      "cell_type": "markdown",
      "metadata": {
        "id": "TMmoTqizppFk"
      },
      "source": [
        "**Tuned Model**"
      ]
    },
    {
      "cell_type": "code",
      "metadata": {
        "colab": {
          "base_uri": "https://localhost:8080/"
        },
        "id": "Lm6k8mX_t7eD",
        "outputId": "2fcbe7cb-3d5b-4706-810f-26890a20e297"
      },
      "source": [
        "# instantiating random forest\n",
        "rfc = RandomForestClassifier(random_state=42)\n",
        "\n",
        "# defining parameters\n",
        "rf_params={'n_estimators':estimators,\n",
        "           'max_depth':max_depth,\n",
        "           'min_samples_split':min_samples_split}\n",
        "# model validation\n",
        "\n",
        "# train model with gridsearch\n",
        "gs_rfc = GridSearchCV(rfc, rf_params, cv=5, n_jobs=-1, verbose=2,return_train_score=True)\n",
        "gs_rfc.fit(X_train, y_train)\n",
        "best_rfc = gs_rfc.best_estimator_\n",
        "gs_rfc.best_estimator_"
      ],
      "execution_count": null,
      "outputs": [
        {
          "output_type": "stream",
          "name": "stdout",
          "text": [
            "Fitting 5 folds for each of 210 candidates, totalling 1050 fits\n"
          ]
        },
        {
          "output_type": "execute_result",
          "data": {
            "text/plain": [
              "RandomForestClassifier(max_depth=7, min_samples_split=10, random_state=42)"
            ]
          },
          "metadata": {},
          "execution_count": 64
        }
      ]
    },
    {
      "cell_type": "code",
      "metadata": {
        "colab": {
          "base_uri": "https://localhost:8080/"
        },
        "id": "iJ9uJm6Jt7ZK",
        "outputId": "ce96dc19-a96d-4114-f79d-b50018fca222"
      },
      "source": [
        "# best train score\n",
        "print(\"best train score: \", gs_rfc.best_score_)"
      ],
      "execution_count": null,
      "outputs": [
        {
          "output_type": "stream",
          "name": "stdout",
          "text": [
            "best train score:  0.7971428571428572\n"
          ]
        }
      ]
    },
    {
      "cell_type": "code",
      "metadata": {
        "colab": {
          "base_uri": "https://localhost:8080/"
        },
        "id": "GIwqU75BibUL",
        "outputId": "9f9917f2-d96e-46a1-feff-6e4e0ecab7bb"
      },
      "source": [
        "# model evaluation \n",
        "test_eval(gs_rfc, X_test, y_test, 'Random Forest','tuned')\n"
      ],
      "execution_count": null,
      "outputs": [
        {
          "output_type": "stream",
          "name": "stdout",
          "text": [
            "Confusion Matrix\n",
            "============================================================\n",
            "[[101   6]\n",
            " [ 29  14]] \n",
            "\n",
            "Classification Report\n",
            "============================================================\n",
            "              precision    recall  f1-score   support\n",
            "\n",
            "           0       0.70      0.33      0.44        43\n",
            "           1       0.78      0.94      0.85       107\n",
            "\n",
            "    accuracy                           0.77       150\n",
            "   macro avg       0.74      0.63      0.65       150\n",
            "weighted avg       0.75      0.77      0.74       150\n",
            " \n",
            "\n",
            "ROC_AUC\n",
            "============================================================\n",
            "0.7052814605520539\n"
          ]
        }
      ]
    },
    {
      "cell_type": "markdown",
      "metadata": {
        "id": "d-4JVM9bdraJ"
      },
      "source": [
        "model is biased towards the creditworthy class"
      ]
    },
    {
      "cell_type": "markdown",
      "metadata": {
        "id": "NnTXA9qjrzKP"
      },
      "source": [
        "#### Model-5: SDGClassifier"
      ]
    },
    {
      "cell_type": "markdown",
      "metadata": {
        "id": "mwafNkYIoxt9"
      },
      "source": [
        "**Base model**"
      ]
    },
    {
      "cell_type": "code",
      "metadata": {
        "id": "QJq_bgeJoxdw"
      },
      "source": [
        "sdg_classifier = SGDClassifier(random_state=42,loss='modified_huber').fit(X_train,y_train)"
      ],
      "execution_count": null,
      "outputs": []
    },
    {
      "cell_type": "code",
      "metadata": {
        "colab": {
          "base_uri": "https://localhost:8080/"
        },
        "id": "73BldXDfoxaX",
        "outputId": "332a5228-7e2f-44f2-ed7e-391531ae9c56"
      },
      "source": [
        "# model evaluation\n",
        "test_eval(sdg_classifier,X_test,y_test, 'SDG','base')"
      ],
      "execution_count": null,
      "outputs": [
        {
          "output_type": "stream",
          "name": "stdout",
          "text": [
            "Confusion Matrix\n",
            "============================================================\n",
            "[[81 26]\n",
            " [19 24]] \n",
            "\n",
            "Classification Report\n",
            "============================================================\n",
            "              precision    recall  f1-score   support\n",
            "\n",
            "           0       0.48      0.56      0.52        43\n",
            "           1       0.81      0.76      0.78       107\n",
            "\n",
            "    accuracy                           0.70       150\n",
            "   macro avg       0.65      0.66      0.65       150\n",
            "weighted avg       0.72      0.70      0.71       150\n",
            " \n",
            "\n",
            "ROC_AUC\n",
            "============================================================\n",
            "0.6581178004781569\n"
          ]
        }
      ]
    },
    {
      "cell_type": "markdown",
      "metadata": {
        "id": "lgYLsTospNNu"
      },
      "source": [
        "**Tuned Model**"
      ]
    },
    {
      "cell_type": "code",
      "metadata": {
        "id": "XVj2Rj5Kf1jM"
      },
      "source": [
        "# instantiating gradient boost\n",
        "sdg = SGDClassifier(random_state=42,shuffle=True,max_iter=1000)"
      ],
      "execution_count": null,
      "outputs": []
    },
    {
      "cell_type": "code",
      "metadata": {
        "colab": {
          "base_uri": "https://localhost:8080/"
        },
        "id": "L_Md_LkOf1av",
        "outputId": "12da007c-7657-4f10-8c8b-7583dc73d859"
      },
      "source": [
        "\n",
        "# parameters\n",
        "params = {\n",
        "    \"loss\" : [ \"log\", \"modified_huber\"],\n",
        "    \"alpha\" : [0.0001, 0.001, 0.01, 0.1],\n",
        "    \"penalty\" : [\"l2\", \"l1\", \"none\"]}\n",
        "\n",
        "# model validation\n",
        "cv = RepeatedStratifiedKFold(n_splits=10, n_repeats=3, random_state=42)\n",
        "gs_sdg = GridSearchCV(sdg, param_grid=params,n_jobs=-1,verbose=2,cv=cv)\n",
        "\n",
        "# model training\n",
        "gs_sdg.fit(X_train, y_train)\n",
        "best_grid=gs_sdg.best_estimator_\n",
        "# predict\n",
        "scores = gs_sdg.score(X_test,y_test)\n",
        "print(\"test score:\",scores)\n",
        "print(\"best parameters: \",gs_sdg.best_params_)\n",
        "print(\"best train score: \", gs_sdg.best_score_)"
      ],
      "execution_count": null,
      "outputs": [
        {
          "output_type": "stream",
          "name": "stdout",
          "text": [
            "Fitting 30 folds for each of 24 candidates, totalling 720 fits\n",
            "test score: 0.7733333333333333\n",
            "best parameters:  {'alpha': 0.1, 'loss': 'modified_huber', 'penalty': 'l2'}\n",
            "best train score:  0.785714285714286\n"
          ]
        }
      ]
    },
    {
      "cell_type": "code",
      "metadata": {
        "colab": {
          "base_uri": "https://localhost:8080/"
        },
        "id": "QNjRsK9Wf1W2",
        "outputId": "a1576fea-2783-417f-a59c-35f44920dc74"
      },
      "source": [
        "test_eval(gs_sdg,X_test,y_test, 'SDG','tuned')"
      ],
      "execution_count": null,
      "outputs": [
        {
          "output_type": "stream",
          "name": "stdout",
          "text": [
            "Confusion Matrix\n",
            "============================================================\n",
            "[[98  9]\n",
            " [25 18]] \n",
            "\n",
            "Classification Report\n",
            "============================================================\n",
            "              precision    recall  f1-score   support\n",
            "\n",
            "           0       0.67      0.42      0.51        43\n",
            "           1       0.80      0.92      0.85       107\n",
            "\n",
            "    accuracy                           0.77       150\n",
            "   macro avg       0.73      0.67      0.68       150\n",
            "weighted avg       0.76      0.77      0.76       150\n",
            " \n",
            "\n",
            "ROC_AUC\n",
            "============================================================\n",
            "0.7570093457943925\n"
          ]
        }
      ]
    },
    {
      "cell_type": "markdown",
      "metadata": {
        "id": "KYCLbn6wQTJB"
      },
      "source": [
        "#### Model-1: KNN(K-Nearest Neighbors)"
      ]
    },
    {
      "cell_type": "markdown",
      "metadata": {
        "id": "G25hhk5kaXwS"
      },
      "source": [
        "**Base Model**"
      ]
    },
    {
      "cell_type": "code",
      "metadata": {
        "colab": {
          "base_uri": "https://localhost:8080/"
        },
        "id": "5HzXf5praZSB",
        "outputId": "9d20100a-d384-468e-96db-4209a1504f90"
      },
      "source": [
        "from sklearn.neighbors import KNeighborsClassifier\n",
        "knn = KNeighborsClassifier()\n",
        "knn.fit(X_train,y_train)\n"
      ],
      "execution_count": null,
      "outputs": [
        {
          "output_type": "execute_result",
          "data": {
            "text/plain": [
              "KNeighborsClassifier()"
            ]
          },
          "metadata": {},
          "execution_count": 72
        }
      ]
    },
    {
      "cell_type": "code",
      "metadata": {
        "colab": {
          "base_uri": "https://localhost:8080/"
        },
        "id": "g01INSsBaZPB",
        "outputId": "79e19d36-ba07-4363-967b-789bf6f66b4f"
      },
      "source": [
        "# model evaluation\n",
        "test_eval(knn,X_test,y_test, 'KNN','base')"
      ],
      "execution_count": null,
      "outputs": [
        {
          "output_type": "stream",
          "name": "stdout",
          "text": [
            "Confusion Matrix\n",
            "============================================================\n",
            "[[94 13]\n",
            " [25 18]] \n",
            "\n",
            "Classification Report\n",
            "============================================================\n",
            "              precision    recall  f1-score   support\n",
            "\n",
            "           0       0.58      0.42      0.49        43\n",
            "           1       0.79      0.88      0.83       107\n",
            "\n",
            "    accuracy                           0.75       150\n",
            "   macro avg       0.69      0.65      0.66       150\n",
            "weighted avg       0.73      0.75      0.73       150\n",
            " \n",
            "\n",
            "ROC_AUC\n",
            "============================================================\n",
            "0.6709410997609215\n"
          ]
        }
      ]
    },
    {
      "cell_type": "markdown",
      "metadata": {
        "id": "IZTH-iuqbSd5"
      },
      "source": [
        "**Tuned model**"
      ]
    },
    {
      "cell_type": "code",
      "metadata": {
        "colab": {
          "base_uri": "https://localhost:8080/"
        },
        "id": "Pd3y_RUSbRvM",
        "outputId": "13f3d90b-218b-4122-f001-6eb96157f4d6"
      },
      "source": [
        "# define parameters\n",
        "k_range = list(range(1,31))\n",
        "parameters = {'n_neighbors':k_range,\n",
        "              'leaf_size':[1,3,5],\n",
        "              'algorithm':['auto', 'kd_tree'],\n",
        "              'weights': [\"uniform\", \"distance\"],\n",
        "\n",
        "}\n",
        "\n",
        "#Fit the model\n",
        "gs_knn = GridSearchCV(knn, param_grid=parameters,n_jobs=-1,verbose=2)\n",
        "gs_knn.fit(X_train,y_train)\n",
        "\n",
        "# predict\n",
        "best_knn=gs_knn.best_estimator_\n",
        "\n",
        "scores = gs_knn.score(X_test,y_test)\n",
        "print(\"test score:\",scores)\n",
        "print(\"best parameters: \",gs_knn.best_params_)\n",
        "print(\"best train score: \", gs_knn.best_score_)\n"
      ],
      "execution_count": null,
      "outputs": [
        {
          "output_type": "stream",
          "name": "stdout",
          "text": [
            "Fitting 5 folds for each of 360 candidates, totalling 1800 fits\n",
            "test score: 0.7666666666666667\n",
            "best parameters:  {'algorithm': 'auto', 'leaf_size': 1, 'n_neighbors': 18, 'weights': 'uniform'}\n",
            "best train score:  0.7714285714285716\n"
          ]
        }
      ]
    },
    {
      "cell_type": "code",
      "metadata": {
        "colab": {
          "base_uri": "https://localhost:8080/"
        },
        "id": "c8LKzAx_bRl3",
        "outputId": "c3b204be-a3f8-4e20-a637-27b4ef426f1e"
      },
      "source": [
        "# model evaluation\n",
        "test_eval(gs_knn,X_test,y_test, 'KNN','tuned')"
      ],
      "execution_count": null,
      "outputs": [
        {
          "output_type": "stream",
          "name": "stdout",
          "text": [
            "Confusion Matrix\n",
            "============================================================\n",
            "[[98  9]\n",
            " [26 17]] \n",
            "\n",
            "Classification Report\n",
            "============================================================\n",
            "              precision    recall  f1-score   support\n",
            "\n",
            "           0       0.65      0.40      0.49        43\n",
            "           1       0.79      0.92      0.85       107\n",
            "\n",
            "    accuracy                           0.77       150\n",
            "   macro avg       0.72      0.66      0.67       150\n",
            "weighted avg       0.75      0.77      0.75       150\n",
            " \n",
            "\n",
            "ROC_AUC\n",
            "============================================================\n",
            "0.7198435122799391\n"
          ]
        }
      ]
    },
    {
      "cell_type": "markdown",
      "metadata": {
        "id": "BvfrxF-amHQV"
      },
      "source": [
        "## Model Comparison\n",
        "\n",
        "In the framework of imbalanced data-sets, accuracy is no longer a proper measure, since it does not distinguish between the numbers of correctly classified examples of different classes. Hence, other metrics would be used for evaluation."
      ]
    },
    {
      "cell_type": "code",
      "metadata": {
        "id": "_YYSjIgiQSwJ",
        "colab": {
          "base_uri": "https://localhost:8080/",
          "height": 363
        },
        "outputId": "f3a6cf98-a39b-4cb7-9622-e3f595778f6f"
      },
      "source": [
        "model_eval = pd.DataFrame({'model':model,\n",
        "                           'model_type':model_type,\n",
        "                            'precision':precision,\n",
        "                            'recall':recall,\n",
        "                            'f1-score':f1score,\n",
        "                            'AUC-ROC':roc_auc})\n",
        "\n",
        "model_eval.sort_values(by=['AUC-ROC','f1-score'],ascending=False,ignore_index=True)"
      ],
      "execution_count": null,
      "outputs": [
        {
          "output_type": "execute_result",
          "data": {
            "text/html": [
              "<div>\n",
              "<style scoped>\n",
              "    .dataframe tbody tr th:only-of-type {\n",
              "        vertical-align: middle;\n",
              "    }\n",
              "\n",
              "    .dataframe tbody tr th {\n",
              "        vertical-align: top;\n",
              "    }\n",
              "\n",
              "    .dataframe thead th {\n",
              "        text-align: right;\n",
              "    }\n",
              "</style>\n",
              "<table border=\"1\" class=\"dataframe\">\n",
              "  <thead>\n",
              "    <tr style=\"text-align: right;\">\n",
              "      <th></th>\n",
              "      <th>model</th>\n",
              "      <th>model_type</th>\n",
              "      <th>precision</th>\n",
              "      <th>recall</th>\n",
              "      <th>f1-score</th>\n",
              "      <th>AUC-ROC</th>\n",
              "    </tr>\n",
              "  </thead>\n",
              "  <tbody>\n",
              "    <tr>\n",
              "      <th>0</th>\n",
              "      <td>Logistic Regression</td>\n",
              "      <td>tuned</td>\n",
              "      <td>0.806723</td>\n",
              "      <td>0.897196</td>\n",
              "      <td>0.849558</td>\n",
              "      <td>0.758965</td>\n",
              "    </tr>\n",
              "    <tr>\n",
              "      <th>1</th>\n",
              "      <td>SDG</td>\n",
              "      <td>tuned</td>\n",
              "      <td>0.796748</td>\n",
              "      <td>0.915888</td>\n",
              "      <td>0.852174</td>\n",
              "      <td>0.757009</td>\n",
              "    </tr>\n",
              "    <tr>\n",
              "      <th>2</th>\n",
              "      <td>Logistic Regression</td>\n",
              "      <td>base</td>\n",
              "      <td>0.801653</td>\n",
              "      <td>0.906542</td>\n",
              "      <td>0.850877</td>\n",
              "      <td>0.750924</td>\n",
              "    </tr>\n",
              "    <tr>\n",
              "      <th>3</th>\n",
              "      <td>Random Forest</td>\n",
              "      <td>base</td>\n",
              "      <td>0.798387</td>\n",
              "      <td>0.925234</td>\n",
              "      <td>0.857143</td>\n",
              "      <td>0.723647</td>\n",
              "    </tr>\n",
              "    <tr>\n",
              "      <th>4</th>\n",
              "      <td>KNN</td>\n",
              "      <td>tuned</td>\n",
              "      <td>0.790323</td>\n",
              "      <td>0.915888</td>\n",
              "      <td>0.848485</td>\n",
              "      <td>0.719844</td>\n",
              "    </tr>\n",
              "    <tr>\n",
              "      <th>5</th>\n",
              "      <td>Decision Tree</td>\n",
              "      <td>tuned</td>\n",
              "      <td>0.809091</td>\n",
              "      <td>0.831776</td>\n",
              "      <td>0.820276</td>\n",
              "      <td>0.716257</td>\n",
              "    </tr>\n",
              "    <tr>\n",
              "      <th>6</th>\n",
              "      <td>Random Forest</td>\n",
              "      <td>tuned</td>\n",
              "      <td>0.776923</td>\n",
              "      <td>0.943925</td>\n",
              "      <td>0.852321</td>\n",
              "      <td>0.705281</td>\n",
              "    </tr>\n",
              "    <tr>\n",
              "      <th>7</th>\n",
              "      <td>KNN</td>\n",
              "      <td>base</td>\n",
              "      <td>0.789916</td>\n",
              "      <td>0.878505</td>\n",
              "      <td>0.831858</td>\n",
              "      <td>0.670941</td>\n",
              "    </tr>\n",
              "    <tr>\n",
              "      <th>8</th>\n",
              "      <td>SDG</td>\n",
              "      <td>base</td>\n",
              "      <td>0.810000</td>\n",
              "      <td>0.757009</td>\n",
              "      <td>0.782609</td>\n",
              "      <td>0.658118</td>\n",
              "    </tr>\n",
              "    <tr>\n",
              "      <th>9</th>\n",
              "      <td>Decision Tree</td>\n",
              "      <td>base</td>\n",
              "      <td>0.797872</td>\n",
              "      <td>0.700935</td>\n",
              "      <td>0.746269</td>\n",
              "      <td>0.629537</td>\n",
              "    </tr>\n",
              "  </tbody>\n",
              "</table>\n",
              "</div>"
            ],
            "text/plain": [
              "                 model model_type  precision    recall  f1-score   AUC-ROC\n",
              "0  Logistic Regression      tuned   0.806723  0.897196  0.849558  0.758965\n",
              "1                  SDG      tuned   0.796748  0.915888  0.852174  0.757009\n",
              "2  Logistic Regression       base   0.801653  0.906542  0.850877  0.750924\n",
              "3        Random Forest       base   0.798387  0.925234  0.857143  0.723647\n",
              "4                  KNN      tuned   0.790323  0.915888  0.848485  0.719844\n",
              "5        Decision Tree      tuned   0.809091  0.831776  0.820276  0.716257\n",
              "6        Random Forest      tuned   0.776923  0.943925  0.852321  0.705281\n",
              "7                  KNN       base   0.789916  0.878505  0.831858  0.670941\n",
              "8                  SDG       base   0.810000  0.757009  0.782609  0.658118\n",
              "9        Decision Tree       base   0.797872  0.700935  0.746269  0.629537"
            ]
          },
          "metadata": {},
          "execution_count": 77
        }
      ]
    },
    {
      "cell_type": "markdown",
      "metadata": {
        "id": "EeTtBrP2udUG"
      },
      "source": [
        "#### ROC Curve"
      ]
    },
    {
      "cell_type": "code",
      "metadata": {
        "id": "EevEBv04uhVF"
      },
      "source": [
        "# predict probabilities\n",
        "pred_prob_lr = gs_lr.predict_proba(X_test)\n",
        "pred_prob_dtr = gs_dtr.predict_proba(X_test)\n",
        "pred_prob_rf = gs_rfc.predict_proba(X_test)\n",
        "pred_prob_knn = gs_knn.predict_proba(X_test)\n",
        "pred_prob_sdg = gs_sdg.predict_proba(X_test)\n",
        "\n",
        "from sklearn.metrics import roc_curve\n",
        "\n",
        "# roc curve for models\n",
        "fpr1, tpr1, thresh1 = roc_curve(y_test, pred_prob_lr[:,1], pos_label=1)\n",
        "fpr2, tpr2, thresh2 = roc_curve(y_test, pred_prob_dtr[:,1], pos_label=1)\n",
        "fpr3, tpr3, thresh3 = roc_curve(y_test, pred_prob_rf[:,1], pos_label=1)\n",
        "fpr4, tpr4, thresh4 = roc_curve(y_test, pred_prob_knn[:,1], pos_label=1)\n",
        "fpr5, tpr5, thresh5 = roc_curve(y_test, pred_prob_sdg[:,1], pos_label=1)\n",
        "# roc curve for tpr = fpr \n",
        "random_probs = [0 for i in range(len(y_test))]\n",
        "p_fpr, p_tpr, _ = roc_curve(y_test, random_probs, pos_label=1)\n"
      ],
      "execution_count": null,
      "outputs": []
    },
    {
      "cell_type": "code",
      "metadata": {
        "colab": {
          "base_uri": "https://localhost:8080/",
          "height": 427
        },
        "id": "ysNeWJ7-ux6T",
        "outputId": "27f684c1-3d8b-4caa-e5f4-a754f605e8b1"
      },
      "source": [
        "# matplotlib\n",
        "import matplotlib.pyplot as plt\n",
        "plt.style.use('seaborn')\n",
        "plt.figure(figsize=(12, 6))\n",
        "# plot roc curves\n",
        "plt.plot(fpr1, tpr1, linestyle='--',color='orange', label='Logistic Regression')\n",
        "plt.plot(fpr2, tpr2, linestyle='--',color='green', label='Decision Tree')\n",
        "plt.plot(fpr3, tpr3, linestyle='--',color='black', label='Random Forest')\n",
        "plt.plot(fpr4, tpr4, linestyle='--',color='cyan', label='KNN')\n",
        "plt.plot(fpr5, tpr5, linestyle='--',color='magenta', label='SDG')\n",
        "plt.plot(p_fpr, p_tpr, color='blue')\n",
        "\n",
        "\n",
        "\n",
        "\n",
        "# title\n",
        "plt.title('ROC curve')\n",
        "# x label\n",
        "plt.xlabel('False Positive Rate')\n",
        "# y label\n",
        "plt.ylabel('True Positive rate')\n",
        "\n",
        "plt.legend(loc='best')\n",
        "plt.savefig('ROC',dpi=300)\n",
        "plt.show();"
      ],
      "execution_count": null,
      "outputs": [
        {
          "output_type": "display_data",
          "data": {
            "image/png": "[encoded data removed]",
            "text/plain": [
              "<Figure size 864x432 with 1 Axes>"
            ]
          },
          "metadata": {}
        }
      ]
    },
    {
      "cell_type": "markdown",
      "metadata": {
        "id": "h81JrCvdsu1f"
      },
      "source": [
        "#### Observations\n",
        "Based on the f1-score, AUC-ROC score, and confusion matrix,Logistic Regression would be retrained as the final model\n"
      ]
    },
    {
      "cell_type": "markdown",
      "metadata": {
        "id": "t6zH6_XIgKX-"
      },
      "source": [
        "## Handling class imbalance using SMOTE based techniques\n"
      ]
    },
    {
      "cell_type": "markdown",
      "metadata": {
        "id": "2AIM4DAn525h"
      },
      "source": [
        "SMOTE performs better when combined with undersampling of the majority class, such as random undersampling."
      ]
    },
    {
      "cell_type": "markdown",
      "metadata": {
        "id": "0Zku9YdsAoOc"
      },
      "source": [
        "**Logistic Regression**"
      ]
    },
    {
      "cell_type": "code",
      "metadata": {
        "colab": {
          "base_uri": "https://localhost:8080/"
        },
        "id": "NKh_dqIY5Uuo",
        "outputId": "3a155b3b-8e73-4d59-d511-635d2085135c"
      },
      "source": [
        "from imblearn.pipeline import Pipeline\n",
        "from imblearn.over_sampling import SMOTE\n",
        "from imblearn.under_sampling import RandomUnderSampler\n",
        "\n",
        "#define grid\n",
        "param_grid_lr=[{'model__solver':['saga'],'model__C':[0.1,1,10],'model__penalty':['elasticnet','l1','l2']},\n",
        "               {'model__solver':['lbfgs'],'model__C':[0.1,1,10],'model__penalty':['l2']}]\n",
        "\n",
        "# define pipeline\n",
        "model = LogisticRegression(random_state=42)\n",
        "over = SMOTE(sampling_strategy=0.5)\n",
        "under = RandomUnderSampler(sampling_strategy=0.5)\n",
        "steps = [('over', over), ('under', under), ('model', model)]\n",
        "pipeline = Pipeline(steps=steps)\n",
        "\n",
        "# model training\n",
        "gs_lr_sm =GridSearchCV(pipeline,param_grid_lr,cv=5)\n",
        "gs_lr_sm.fit(X_train,y_train)\n",
        "test_score = gs_lr_sm.score(X_test,y_test)\n",
        "best_lr_sm = gs_lr_sm.best_estimator_\n",
        "\n",
        "print(\"test score:\",test_score)\n",
        "print(\"best parameters: \",gs_lr_sm.best_params_)\n",
        "print(\"best train score: \", gs_lr_sm.best_score_)"
      ],
      "execution_count": null,
      "outputs": [
        {
          "output_type": "stream",
          "name": "stdout",
          "text": [
            "test score: 0.78\n",
            "best parameters:  {'model__C': 0.1, 'model__penalty': 'l2', 'model__solver': 'saga'}\n",
            "best train score:  0.7885714285714286\n"
          ]
        }
      ]
    },
    {
      "cell_type": "code",
      "metadata": {
        "colab": {
          "base_uri": "https://localhost:8080/"
        },
        "id": "XRIU3m4F5UqR",
        "outputId": "f896b952-e4d8-42c0-bbe8-2390ecb39d34"
      },
      "source": [
        "y_pred = gs_lr_sm.predict(X_test)\n",
        "y_prob=gs_lr_sm.predict_proba(X_test)\n",
        "print(\"AUC-ROC\", roc_auc_score(y_test, y_prob[:,1]))\n",
        "print(confusion_matrix(y_test,y_pred))\n",
        "print(classification_report(y_test,y_pred))"
      ],
      "execution_count": null,
      "outputs": [
        {
          "output_type": "stream",
          "name": "stdout",
          "text": [
            "AUC-ROC 0.7670071723538361\n",
            "[[23 20]\n",
            " [13 94]]\n",
            "              precision    recall  f1-score   support\n",
            "\n",
            "           0       0.64      0.53      0.58        43\n",
            "           1       0.82      0.88      0.85       107\n",
            "\n",
            "    accuracy                           0.78       150\n",
            "   macro avg       0.73      0.71      0.72       150\n",
            "weighted avg       0.77      0.78      0.77       150\n",
            "\n"
          ]
        }
      ]
    },
    {
      "cell_type": "markdown",
      "metadata": {
        "id": "WF2CX01OF78q"
      },
      "source": [
        "## Final Model Training \n",
        "\n"
      ]
    },
    {
      "cell_type": "markdown",
      "metadata": {
        "id": "yQz0hAdhFm98"
      },
      "source": [
        "### Logistic Regression"
      ]
    },
    {
      "cell_type": "markdown",
      "metadata": {
        "id": "6AoTdCZ1t_5g"
      },
      "source": [
        " re-training the Logistic regression model with the best optimal values and then check its performance:"
      ]
    },
    {
      "cell_type": "markdown",
      "metadata": {
        "id": "HNILJG3CFtZs"
      },
      "source": [
        "**Final Training With Imbalance Class**"
      ]
    },
    {
      "cell_type": "code",
      "metadata": {
        "colab": {
          "base_uri": "https://localhost:8080/"
        },
        "id": "GjwCEzXoF7rS",
        "outputId": "f00e0285-535c-40c2-bf17-52dbb5e98f85"
      },
      "source": [
        "y_pred=best_lr.predict(X_test)\n",
        "y_prob=best_lr.predict_proba(X_test)\n",
        "print(confusion_matrix(y_test,y_pred))\n",
        "print(\"Train Accuracy Score {}\".format(best_lr.score(X_train,y_train)))\n",
        "print(classification_report(y_test,y_pred))\n",
        "print(\"ROC_AUC {}\".format(roc_auc_score(y_test, y_prob[:,1])))"
      ],
      "execution_count": null,
      "outputs": [
        {
          "output_type": "stream",
          "name": "stdout",
          "text": [
            "[[20 23]\n",
            " [11 96]]\n",
            "Train Accuracy Score 0.8114285714285714\n",
            "              precision    recall  f1-score   support\n",
            "\n",
            "           0       0.65      0.47      0.54        43\n",
            "           1       0.81      0.90      0.85       107\n",
            "\n",
            "    accuracy                           0.77       150\n",
            "   macro avg       0.73      0.68      0.70       150\n",
            "weighted avg       0.76      0.77      0.76       150\n",
            "\n",
            "ROC_AUC 0.7589654422951532\n"
          ]
        }
      ]
    },
    {
      "cell_type": "markdown",
      "metadata": {
        "id": "2hJuICO3ISO0"
      },
      "source": [
        "With the imbalance class, the model seems to be overfitting a bit"
      ]
    },
    {
      "cell_type": "markdown",
      "metadata": {
        "id": "bfuYxaAyGcTP"
      },
      "source": [
        "**Final Training with Balance class**"
      ]
    },
    {
      "cell_type": "code",
      "metadata": {
        "colab": {
          "base_uri": "https://localhost:8080/"
        },
        "id": "hgrXdsPMSUPt",
        "outputId": "72b597a7-3949-45a5-f6c4-006fa53a26d5"
      },
      "source": [
        "y_pred=best_lr_sm.predict(X_test)\n",
        "y_prob=best_lr_sm.predict_proba(X_test)\n",
        "print(confusion_matrix(y_test,y_pred))\n",
        "print(\"Train Accuracy Score {}\".format(best_lr_sm.score(X_train,y_train)))\n",
        "print(classification_report(y_test,y_pred))\n",
        "print(\"ROC_AUC {}\".format(roc_auc_score(y_test, y_prob[:,1])))"
      ],
      "execution_count": null,
      "outputs": [
        {
          "output_type": "stream",
          "name": "stdout",
          "text": [
            "[[23 20]\n",
            " [13 94]]\n",
            "Train Accuracy Score 0.7942857142857143\n",
            "              precision    recall  f1-score   support\n",
            "\n",
            "           0       0.64      0.53      0.58        43\n",
            "           1       0.82      0.88      0.85       107\n",
            "\n",
            "    accuracy                           0.78       150\n",
            "   macro avg       0.73      0.71      0.72       150\n",
            "weighted avg       0.77      0.78      0.77       150\n",
            "\n",
            "ROC_AUC 0.7670071723538361\n"
          ]
        }
      ]
    },
    {
      "cell_type": "markdown",
      "metadata": {
        "id": "2hdnqeMsIY43"
      },
      "source": [
        "After handling class imbalance, the overfitting issue seems to be handled better"
      ]
    },
    {
      "cell_type": "markdown",
      "metadata": {
        "id": "fcTa_PziBKqo"
      },
      "source": [
        "## Loan eligibility predictions \n",
        "\n"
      ]
    },
    {
      "cell_type": "markdown",
      "metadata": {
        "id": "WKwKXvi6GtjC"
      },
      "source": [
        "**Predicting with an imbalanced class data model**"
      ]
    },
    {
      "cell_type": "code",
      "metadata": {
        "id": "LdOg4SYOu4-R",
        "colab": {
          "base_uri": "https://localhost:8080/"
        },
        "outputId": "0af7fb21-bb24-4150-d41c-104ab5c439b7"
      },
      "source": [
        "Predicted_y = best_lr.predict(XT)\n",
        "# results in dataframe\n",
        "pred = pd.DataFrame(Predicted_y)\n",
        "# check number of people eligible for loan\n",
        "pred.value_counts()"
      ],
      "execution_count": null,
      "outputs": [
        {
          "output_type": "execute_result",
          "data": {
            "text/plain": [
              "1    407\n",
              "0     93\n",
              "dtype: int64"
            ]
          },
          "metadata": {},
          "execution_count": 127
        }
      ]
    },
    {
      "cell_type": "markdown",
      "metadata": {
        "id": "kWDPhB8rHFQc"
      },
      "source": [
        "**Predicting with a balanced class data model**"
      ]
    },
    {
      "cell_type": "code",
      "metadata": {
        "id": "uja9zvuT_UMH",
        "colab": {
          "base_uri": "https://localhost:8080/"
        },
        "outputId": "739da010-9663-4110-eb0c-38cb13fc25ab"
      },
      "source": [
        "Predicted_y = best_lr_sm.predict(XT)\n",
        "# results in dataframe\n",
        "pred = pd.DataFrame(Predicted_y)\n",
        "# check number of people eligible for loan\n",
        "pred.value_counts()"
      ],
      "execution_count": null,
      "outputs": [
        {
          "output_type": "execute_result",
          "data": {
            "text/plain": [
              "1    384\n",
              "0    116\n",
              "dtype: int64"
            ]
          },
          "metadata": {},
          "execution_count": 128
        }
      ]
    },
    {
      "cell_type": "markdown",
      "metadata": {
        "id": "tKUoGqyFIvjn"
      },
      "source": [
        "## Conclusion"
      ]
    },
    {
      "cell_type": "markdown",
      "metadata": {
        "id": "LdFkq8JOxeEv"
      },
      "source": [
        "After Introducing the external data to the model to check the number of people eligible for a loan, the following were observed:\n",
        "\n",
        "**With an imbalanced class data;**\n",
        "- 407 people are eligible for loan out of the 500 applicants.\n",
        "- 93 people should not be  considered.\n",
        "\n",
        "**With a balanced class data;**\n",
        "\n",
        "- 384 people are eligible for loan out of the 500 applicants.\n",
        "- 116 people should not be  considered."
      ]
    },
    {
      "cell_type": "code",
      "metadata": {
        "id": "T0BRmhXRygS-"
      },
      "source": [
        ""
      ],
      "execution_count": null,
      "outputs": []
    },
    {
      "cell_type": "code",
      "source": [
        ""
      ],
      "metadata": {
        "id": "g2oKxQPAznXL"
      },
      "execution_count": null,
      "outputs": []
    },
    {
      "cell_type": "code",
      "source": [
        ""
      ],
      "metadata": {
        "id": "_faYxeh_znTV"
      },
      "execution_count": null,
      "outputs": []
    },
    {
      "cell_type": "code",
      "source": [
        ""
      ],
      "metadata": {
        "id": "ykgRaxiWznNM"
      },
      "execution_count": null,
      "outputs": []
    }
  ]
}